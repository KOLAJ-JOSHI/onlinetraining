{
 "cells": [
  {
   "cell_type": "markdown",
   "metadata": {},
   "source": [
    "1.What is the difference between a parameter and an argument?\n",
    "\n",
    "=> Parameter is the variable in function definition whereas argument is the value that is passed to the function"
   ]
  },
  {
   "cell_type": "markdown",
   "metadata": {},
   "source": [
    "2.What is the difference between 10 / 3 and 10 // 3 in python?\n",
    "\n",
    "=> / is a division which returns 3.33 whereas // is integer division which returns only integer value i.e 3"
   ]
  },
  {
   "cell_type": "markdown",
   "metadata": {},
   "source": [
    "3.What does range(1, 10, 2) return?\n",
    "\n",
    "=> 1 3 5 7 9"
   ]
  },
  {
   "cell_type": "markdown",
   "metadata": {},
   "source": [
    "4.How can we make a parameter of a function optional?\n",
    "\n",
    "=>using default argument\n",
    "\n",
    "   def fu(a,v=10):\n",
    "       print(a,v)\n",
    "       \n",
    "   fu(12)"
   ]
  },
  {
   "cell_type": "markdown",
   "metadata": {},
   "source": [
    "5.What is the difference between local and global variables?\n",
    "\n",
    "=> A variable defined inside a function is local where as outside the function is called global variable.\n",
    "\n",
    "   Local variable can only be used inside that function whereas global variable can be used anywhere"
   ]
  },
  {
   "cell_type": "markdown",
   "metadata": {},
   "source": [
    "6.Assuming (name = “John Smith”)\n",
    "\n",
    "a.what does name[1] return? \n",
    " \n",
    "=> it returns 'J'\n",
    "\n",
    "b.What about name[-2]?\n",
    "\n",
    "=> it returns 't'\n",
    "\n",
    "c. What about name[1:-1]? \n",
    "\n",
    "=>returns 'ohn Smit'\n",
    "\n",
    "d.what will name.title() return?\n",
    "\n",
    "=>returns 'John Smith'\n",
    "\n",
    "e.What does name.strip() do? \n",
    "\n",
    "=>removes leading and trailing character based on argument passed\n",
    "\n",
    "f.What will name.find(“Smith”) return? \n",
    "\n",
    "=>it will return the starting position of Smith i.e 5\n",
    "\n",
    "g.What will be the value of name after we call name.replace(“j”, “k”)? \n",
    "\n",
    "=>There will be no change in the name as it doesn't contain any j i.e it returns 'John Smith'\n",
    "\n",
    "h.How can we check to see if name contains “John”?\n",
    "\n",
    "=>we can use find() to determine it. if it contains 'John' then it will return its starting position."
   ]
  },
  {
   "cell_type": "code",
   "execution_count": 1,
   "metadata": {},
   "outputs": [],
   "source": [
    "#Write a function that returns the maximum of two numbers.\n",
    "\n",
    "def maximum (a,b):\n",
    "    return max(a,b)"
   ]
  },
  {
   "cell_type": "code",
   "execution_count": 2,
   "metadata": {},
   "outputs": [
    {
     "name": "stdout",
     "output_type": "stream",
     "text": [
      "5\n"
     ]
    },
    {
     "data": {
      "text/plain": [
       "{1: 1, 2: 4, 3: 9, 4: 16, 5: 25}"
      ]
     },
     "execution_count": 2,
     "metadata": {},
     "output_type": "execute_result"
    }
   ],
   "source": [
    "#Write a Python script to generate and print a dictionary \n",
    "#that contains a number (between 1 and n) in the form (x, x*x). \n",
    "#Example : Sample_Dictionary( n = 5) : Expected Output : {1: 1, 2: 4, 3: 9, 4: 16, 5: 25}\n",
    "\n",
    "n=int(input())\n",
    "{x:x*x for x in range(1,n+1)}"
   ]
  },
  {
   "cell_type": "code",
   "execution_count": 3,
   "metadata": {},
   "outputs": [
    {
     "name": "stdout",
     "output_type": "stream",
     "text": [
      "ram\n",
      "RAM\n"
     ]
    }
   ],
   "source": [
    "#Write a Python class which has two methods: get_String and print_String.\n",
    "#get_String accepts a string from the user and print_String print the string in upper case.\n",
    "\n",
    "class python:\n",
    "    def __init__(self):\n",
    "        self.strng=\"\"\n",
    "    def get_String(self):\n",
    "        self.strng=input()\n",
    "    def print_String(self):\n",
    "        print (self.strng.upper())\n",
    "\n",
    "\n",
    "obj=python()\n",
    "obj.get_String()\n",
    "obj.print_String()"
   ]
  },
  {
   "cell_type": "code",
   "execution_count": 4,
   "metadata": {},
   "outputs": [],
   "source": [
    "'''Write a function called fizz_buzz that takes a number.\n",
    "If the number is divisible by 3, it should return “Fizz”.\n",
    "If it is divisible by 5, it should return “Buzz”.\n",
    "If it is divisible by both 3 and 5, it should return “FizzBuzz”.\n",
    "Otherwise, it should return the same number.\n",
    "'''\n",
    "\n",
    "def fizz_buzz(num):\n",
    "    if (num%3==0 and num%5==0):\n",
    "        return ('FizzBuzz')\n",
    "    elif (num%3==0):\n",
    "        return('Fizz')\n",
    "    elif (num%5==0):\n",
    "        return(\"Buzz\")\n",
    "    else:\n",
    "        return(num)"
   ]
  },
  {
   "cell_type": "code",
   "execution_count": 5,
   "metadata": {},
   "outputs": [],
   "source": [
    "'''5. Write a regular expression that will match an email,\n",
    "an email is a string which has the format ‘abcd@gmail.com’\n",
    "or ‘xyz@yahoo.com’i.e., any string followed by ‘@’ symbol\n",
    "followed by any string followed by ‘.’ symbol followed by ‘com’.'''\n",
    "\n",
    "regex = '^([a-zA-Z0-9_\\-\\.]+)@([a-zA-Z0-9_\\-\\.]+)\\.([a-zA-Z]{2,5})$'"
   ]
  },
  {
   "cell_type": "code",
   "execution_count": 9,
   "metadata": {},
   "outputs": [
    {
     "name": "stdout",
     "output_type": "stream",
     "text": [
      "enter according to ['name','address','phone','college'] order :Ram\n",
      "enter according to ['name','address','phone','college'] order :Butwal\n",
      "enter according to ['name','address','phone','college'] order :123\n",
      "enter according to ['name','address','phone','college'] order :BMC\n",
      "enter according to ['name','address','phone','college'] order :Shyam\n",
      "enter according to ['name','address','phone','college'] order :Palpa\n",
      "enter according to ['name','address','phone','college'] order :456\n",
      "enter according to ['name','address','phone','college'] order :MMC\n",
      "enter according to ['name','address','phone','college'] order :Hari\n",
      "enter according to ['name','address','phone','college'] order :Dang\n",
      "enter according to ['name','address','phone','college'] order :789\n",
      "enter according to ['name','address','phone','college'] order :KMC\n",
      "enter according to ['name','address','phone','college'] order :Rita\n",
      "enter according to ['name','address','phone','college'] order :Butwal\n",
      "enter according to ['name','address','phone','college'] order :012\n",
      "enter according to ['name','address','phone','college'] order :LBC\n",
      "enter according to ['name','address','phone','college'] order :Amrita\n",
      "enter according to ['name','address','phone','college'] order :Kathmandu\n",
      "enter according to ['name','address','phone','college'] order :345\n",
      "enter according to ['name','address','phone','college'] order :Orchid\n"
     ]
    }
   ],
   "source": [
    "'''6. Write a program that takes the following input and dumps the output \n",
    "in the given format into a json file named ‘student_details.json’.\n",
    "Input:\n",
    "Details for five students:\n",
    "Information to take as input: Name, Address, Phone No, College Name\n",
    "Output format: \n",
    "A List that contains 5 dictionaries like:\n",
    "[{‘name’: ‘xyz’, ‘address’: ‘xyz’, ‘phone’:123456, ‘college’: ‘KU’}, …….\n",
    "…..]'''\n",
    "\n",
    "import json\n",
    "\n",
    "'''for x in range(5):\n",
    "    name=input()\n",
    "    address=input()\n",
    "    phone=input()\n",
    "    college=input()'''\n",
    "    \n",
    "list1=['name','address','phone','college']\n",
    "sample=[{x:input(\"enter according to ['name','address','phone','college'] order :\") for x in list1 } for x in range(5)]\n",
    "\n",
    "with open('student_details.json','w') as fp:\n",
    "    json.dump(sample,fp)"
   ]
  },
  {
   "cell_type": "code",
   "execution_count": null,
   "metadata": {},
   "outputs": [],
   "source": []
  }
 ],
 "metadata": {
  "kernelspec": {
   "display_name": "Python 3",
   "language": "python",
   "name": "python3"
  },
  "language_info": {
   "codemirror_mode": {
    "name": "ipython",
    "version": 3
   },
   "file_extension": ".py",
   "mimetype": "text/x-python",
   "name": "python",
   "nbconvert_exporter": "python",
   "pygments_lexer": "ipython3",
   "version": "3.7.3"
  }
 },
 "nbformat": 4,
 "nbformat_minor": 2
}

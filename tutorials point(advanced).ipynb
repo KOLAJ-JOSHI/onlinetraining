{
 "cells": [
  {
   "cell_type": "code",
   "execution_count": 12,
   "metadata": {},
   "outputs": [
    {
     "name": "stdout",
     "output_type": "stream",
     "text": [
      "total employee is : 2\n",
      " name : ram \n",
      "salary : 40000\n",
      "total employee is : 2\n",
      " name : mani \n",
      "salary : 30000\n"
     ]
    }
   ],
   "source": [
    "class Employee:\n",
    "    \n",
    "    'Common Base class for all employees'\n",
    "    empcount = 0\n",
    "    \n",
    "    def __init__(self,name,salary):\n",
    "        self.name=name\n",
    "        self.salary=salary\n",
    "        Employee.empcount+=1\n",
    "        \n",
    "    def displaycount(self):\n",
    "        print (\"total employee is :\",Employee.empcount)\n",
    "        \n",
    "    def displayemployee(self):\n",
    "        print (\" name :\",self.name,\"\\nsalary :\",self.salary)\n",
    "    \n",
    "emp1=Employee(\"ram\",40000)\n",
    "emp2=Employee(\"mani\",30000)\n",
    "\n",
    "emp1.displaycount()\n",
    "emp1.displayemployee()\n",
    "\n",
    "\n",
    "emp2.displaycount()\n",
    "emp2.displayemployee()\n",
    "\n"
   ]
  },
  {
   "cell_type": "code",
   "execution_count": 2,
   "metadata": {},
   "outputs": [
    {
     "name": "stdout",
     "output_type": "stream",
     "text": [
      "8\n"
     ]
    }
   ],
   "source": [
    "emp1.age=8\n",
    "print (emp1.age)"
   ]
  },
  {
   "cell_type": "code",
   "execution_count": 3,
   "metadata": {},
   "outputs": [],
   "source": [
    "del emp1.age"
   ]
  },
  {
   "cell_type": "code",
   "execution_count": 13,
   "metadata": {},
   "outputs": [
    {
     "name": "stdout",
     "output_type": "stream",
     "text": [
      "Employee._doc_ : Common Base class for all employees\n",
      "Employee.__name__ : Employee\n",
      "Employee._bases_ : (<class 'object'>,)\n",
      "Employee._module_ : __main__\n",
      "Employee._dict_ : {'__module__': '__main__', '__doc__': 'Common Base class for all employees', 'empcount': 2, '__init__': <function Employee.__init__ at 0x0000023AD5619AE8>, 'displaycount': <function Employee.displaycount at 0x0000023AD56199D8>, 'displayemployee': <function Employee.displayemployee at 0x0000023AD5619950>, '__dict__': <attribute '__dict__' of 'Employee' objects>, '__weakref__': <attribute '__weakref__' of 'Employee' objects>}\n"
     ]
    }
   ],
   "source": [
    "print (\"Employee._doc_ :\",Employee.__doc__)\n",
    "print (\"Employee.__name__ :\",Employee.__name__)\n",
    "print (\"Employee._bases_ :\",Employee.__bases__)\n",
    "print (\"Employee._module_ :\",Employee.__module__)\n",
    "print (\"Employee._dict_ :\",Employee.__dict__)"
   ]
  },
  {
   "cell_type": "code",
   "execution_count": 17,
   "metadata": {},
   "outputs": [
    {
     "name": "stdout",
     "output_type": "stream",
     "text": [
      "Calling child constructor\n",
      "calling child method\n",
      "calling parent method\n",
      "Parent attribute  200\n"
     ]
    }
   ],
   "source": [
    "class Parent:\n",
    "    \n",
    "    parentattr=100;\n",
    "    \n",
    "    def __init__(self):\n",
    "        print (\"calling parent constructor\")\n",
    "        \n",
    "    def parentmethod(self):\n",
    "        print (\"calling parent method\")\n",
    "        \n",
    "    def setAttr(self,attr):\n",
    "        Parent.parentattr=attr\n",
    "        \n",
    "    def getAttr(self):\n",
    "        print (\"Parent attribute \",Parent.parentattr)\n",
    "        \n",
    "class Child(Parent):\n",
    "    \n",
    "    def __init__(self):\n",
    "        print (\"Calling child constructor\")\n",
    "        \n",
    "    def childmethod(self):\n",
    "        print (\"calling child method\")\n",
    "        \n",
    "c=Child()\n",
    "c.childmethod()\n",
    "c.parentmethod()\n",
    "c.setAttr(200)\n",
    "c.getAttr()"
   ]
  },
  {
   "cell_type": "markdown",
   "metadata": {},
   "source": [
    "## Overriding methods"
   ]
  },
  {
   "cell_type": "code",
   "execution_count": 18,
   "metadata": {},
   "outputs": [
    {
     "name": "stdout",
     "output_type": "stream",
     "text": [
      "calling Bclass  constructor\n",
      "Calling Bclass method\n"
     ]
    }
   ],
   "source": [
    "class Aclass:\n",
    "    \n",
    "    def __init__(self):\n",
    "        print (\"calling Aclass constructor\")\n",
    "        \n",
    "    def mymethod(self):\n",
    "        print (\"calling Aclass method\")\n",
    "        \n",
    "class Bclass(Aclass):\n",
    "    \n",
    "    def __init__(self):\n",
    "        print (\"calling Bclass  constructor\")\n",
    "        \n",
    "    def mymethod(self):\n",
    "        print (\"Calling Bclass method\")\n",
    "        \n",
    "myclass = Bclass()\n",
    "myclass.mymethod()"
   ]
  },
  {
   "cell_type": "markdown",
   "metadata": {},
   "source": [
    "## overloading operators"
   ]
  },
  {
   "cell_type": "code",
   "execution_count": 22,
   "metadata": {},
   "outputs": [
    {
     "name": "stdout",
     "output_type": "stream",
     "text": [
      "Vector(7,8)\n"
     ]
    }
   ],
   "source": [
    "class Vector:\n",
    "    \n",
    "    def __init__(self,a,b):\n",
    "        self.a=a\n",
    "        self.b=b\n",
    "        \n",
    "    def __str__(self):\n",
    "        return (\"Vector(%d,%d)\" % (self.a,self.b))\n",
    "    \n",
    "    def __add__(self,other):\n",
    "        return Vector(self.a + other.a,self.b + other.b)\n",
    "    \n",
    "A = Vector(2,10)\n",
    "B = Vector(5,-2)\n",
    "print (A+B)\n"
   ]
  },
  {
   "cell_type": "markdown",
   "metadata": {},
   "source": [
    "## Data hiding"
   ]
  },
  {
   "cell_type": "code",
   "execution_count": 28,
   "metadata": {},
   "outputs": [
    {
     "name": "stdout",
     "output_type": "stream",
     "text": [
      "1\n",
      "2\n",
      "1\n"
     ]
    },
    {
     "ename": "AttributeError",
     "evalue": "'Sample' object has no attribute '__data'",
     "output_type": "error",
     "traceback": [
      "\u001b[1;31m---------------------------------------------------------------------------\u001b[0m",
      "\u001b[1;31mAttributeError\u001b[0m                            Traceback (most recent call last)",
      "\u001b[1;32m<ipython-input-28-2909ae966eed>\u001b[0m in \u001b[0;36m<module>\u001b[1;34m\u001b[0m\n\u001b[0;32m     14\u001b[0m \u001b[0mram\u001b[0m\u001b[1;33m.\u001b[0m\u001b[0mcount\u001b[0m\u001b[1;33m(\u001b[0m\u001b[1;33m)\u001b[0m\u001b[1;33m\u001b[0m\u001b[1;33m\u001b[0m\u001b[0m\n\u001b[0;32m     15\u001b[0m \u001b[1;33m\u001b[0m\u001b[0m\n\u001b[1;32m---> 16\u001b[1;33m \u001b[0mprint\u001b[0m \u001b[1;33m(\u001b[0m\u001b[0msam\u001b[0m\u001b[1;33m.\u001b[0m\u001b[0m__data\u001b[0m\u001b[1;33m)\u001b[0m\u001b[1;33m\u001b[0m\u001b[1;33m\u001b[0m\u001b[0m\n\u001b[0m",
      "\u001b[1;31mAttributeError\u001b[0m: 'Sample' object has no attribute '__data'"
     ]
    }
   ],
   "source": [
    "class Sample:\n",
    "    \n",
    "    __data=0\n",
    "    \n",
    "    def count(self):\n",
    "        self.__data+=1\n",
    "        print (self.__data)\n",
    "        \n",
    "sam = Sample()\n",
    "sam.count()\n",
    "sam.count()\n",
    "\n",
    "ram = Sample()\n",
    "ram.count()\n",
    "\n",
    "print (sam.__data)"
   ]
  },
  {
   "cell_type": "code",
   "execution_count": 29,
   "metadata": {},
   "outputs": [
    {
     "name": "stdout",
     "output_type": "stream",
     "text": [
      "2\n"
     ]
    }
   ],
   "source": [
    "#we can display the hidden data as :\n",
    "\n",
    "\n",
    "print (sam._Sample__data)"
   ]
  },
  {
   "cell_type": "markdown",
   "metadata": {},
   "source": [
    "## Regular Expression"
   ]
  },
  {
   "cell_type": "code",
   "execution_count": 5,
   "metadata": {},
   "outputs": [
    {
     "data": {
      "text/plain": [
       "<re.Match object; span=(0, 5), match='abayx'>"
      ]
     },
     "execution_count": 5,
     "metadata": {},
     "output_type": "execute_result"
    }
   ],
   "source": [
    "import re \n",
    "\n",
    "pattern1 = '^a...x$'\n",
    "test1 = 'abayx'\n",
    "match = re.match(pattern1,test1)\n",
    "match\n",
    "\n",
    "\n"
   ]
  },
  {
   "cell_type": "code",
   "execution_count": 6,
   "metadata": {},
   "outputs": [
    {
     "name": "stdout",
     "output_type": "stream",
     "text": [
      "it is not matched\n",
      "it is not matched\n",
      "it is matched\n",
      "it is not matched\n"
     ]
    }
   ],
   "source": [
    "test = ['abbba','bbbax','abxyx','aaaaax']\n",
    "\n",
    "for x in test:\n",
    "    match = re.match(pattern1,x)\n",
    "    if match:\n",
    "        print (\"it is matched\")\n",
    "    else:\n",
    "        print (\"it is not matched\")"
   ]
  },
  {
   "cell_type": "code",
   "execution_count": 9,
   "metadata": {},
   "outputs": [
    {
     "name": "stdout",
     "output_type": "stream",
     "text": [
      "Not matched\n"
     ]
    }
   ],
   "source": [
    "# . accepts any 1 character \n",
    "# .* accepts any no of character with empty string\n",
    "# .+ accepts any no of character \n",
    "\n",
    "\n",
    "#pattern = '.*'\n",
    "pattern = '.+'\n",
    "test =''\n",
    "match = re.match(pattern,test)\n",
    "if match:\n",
    "    print (\"Matched\")\n",
    "else:\n",
    "    print (\"Not matched\")\n",
    "    \n"
   ]
  },
  {
   "cell_type": "code",
   "execution_count": 31,
   "metadata": {},
   "outputs": [
    {
     "name": "stdout",
     "output_type": "stream",
     "text": [
      "Matched : abcdefghijkl\n",
      "Matched : abcxyZ\n",
      "not matched : 1234\n",
      "Matched : abc123\n",
      "Matched : abc..\n",
      "Matched : abc@gmail\n",
      "not matched : ABCZZZ\n",
      "not matched : ZZAA\n",
      "Matched : zabca\n",
      "not matched : ..\n",
      "not matched : @gmail\n",
      "not matched : 123ab\n"
     ]
    }
   ],
   "source": [
    "pattern='[a-z]'\n",
    "test = ['abcdefghijkl','abcxyZ','1234','abc123','abc..','abc@gmail','ABCZZZ','ZZAA','zabca','..','@gmail','123ab']\n",
    "for test in test:\n",
    "    match = re.match(pattern,test)\n",
    "    if match:\n",
    "        print (\"Matched :\",test)\n",
    "    else:\n",
    "        print (\"not matched :\",test)"
   ]
  },
  {
   "cell_type": "code",
   "execution_count": 22,
   "metadata": {},
   "outputs": [
    {
     "name": "stdout",
     "output_type": "stream",
     "text": [
      "Matched : 12x\n",
      "Not matched : @.xa\n",
      "Not matched : ...a\n",
      "Not matched : ..xaa\n",
      "Not matched : xxxa\n",
      "Not matched : axxb\n"
     ]
    }
   ],
   "source": [
    "pattern = '..x$a?'\n",
    "test = ['12x','@.xa','...a','..xaa','xxxa','axxb']\n",
    "for x in test:\n",
    "    match = re.match(pattern,x)\n",
    "    if match:\n",
    "        print (\"Matched :\",x)\n",
    "    else:\n",
    "        print (\"Not matched :\",x)"
   ]
  },
  {
   "cell_type": "code",
   "execution_count": 26,
   "metadata": {},
   "outputs": [
    {
     "data": {
      "text/plain": [
       "<re.Match object; span=(0, 1), match='I'>"
      ]
     },
     "execution_count": 26,
     "metadata": {},
     "output_type": "execute_result"
    }
   ],
   "source": [
    "pattern='\\w'\n",
    "test='I am learning python.'\n",
    "match = re.match(pattern,test)\n",
    "match"
   ]
  },
  {
   "cell_type": "code",
   "execution_count": 32,
   "metadata": {},
   "outputs": [
    {
     "name": "stdout",
     "output_type": "stream",
     "text": [
      "Match successful : ab123\n",
      "Search success : ab123\n",
      "Match not success : 123ab\n",
      "Search success : 123ab\n"
     ]
    }
   ],
   "source": [
    "#match matches from beginning whereas search searches in any place \n",
    "\n",
    "pattern = '[a-z]'\n",
    "test = ['ab123','123ab']\n",
    "for x in test:\n",
    "    match=re.match(pattern,x)\n",
    "    search=re.search(pattern,x)\n",
    "    if match:\n",
    "        print (\"Match successful :\",x)\n",
    "    else:\n",
    "        print (\"Match not success :\",x)\n",
    "    \n",
    "    if search:\n",
    "        print (\"Search success :\",x)\n",
    "    else:\n",
    "        print (\"search not success :\",x)"
   ]
  },
  {
   "cell_type": "code",
   "execution_count": 34,
   "metadata": {},
   "outputs": [
    {
     "data": {
      "text/plain": [
       "['I', 'am', 'learning', 'python', 'as', 'it', 'is', 'very', 'intresting.']"
      ]
     },
     "execution_count": 34,
     "metadata": {},
     "output_type": "execute_result"
    }
   ],
   "source": [
    "pattern ='\\s'\n",
    "test='I am learning python as it is very intresting.'\n",
    "split = re.split(pattern,test)\n",
    "split"
   ]
  },
  {
   "cell_type": "code",
   "execution_count": 50,
   "metadata": {},
   "outputs": [
    {
     "data": {
      "text/plain": [
       "['n', 'n', 'n']"
      ]
     },
     "execution_count": 50,
     "metadata": {},
     "output_type": "execute_result"
    }
   ],
   "source": [
    "pattern ='n'\n",
    "test = 'I am learning python.'\n",
    "find = re.findall(pattern,test)\n",
    "find"
   ]
  },
  {
   "cell_type": "markdown",
   "metadata": {},
   "source": [
    "## Generators"
   ]
  },
  {
   "cell_type": "code",
   "execution_count": 51,
   "metadata": {},
   "outputs": [
    {
     "name": "stdout",
     "output_type": "stream",
     "text": [
      "1\n",
      "2\n",
      "a\n"
     ]
    }
   ],
   "source": [
    "def my_generator():\n",
    "    yield 1\n",
    "    yield 2\n",
    "    yield 'a'\n",
    "    return\n",
    "\n",
    "for x in my_generator():\n",
    "    print (x)"
   ]
  },
  {
   "cell_type": "code",
   "execution_count": 59,
   "metadata": {},
   "outputs": [
    {
     "name": "stdout",
     "output_type": "stream",
     "text": [
      "1\n",
      "2\n",
      "a\n"
     ]
    }
   ],
   "source": [
    "c = my_generator()\n",
    "for x in c:\n",
    "    print (x)\n",
    "for x in c:\n",
    "    print (x)\n",
    "    \n",
    "#Not printing two times as generator are not re usable "
   ]
  },
  {
   "cell_type": "code",
   "execution_count": 64,
   "metadata": {},
   "outputs": [
    {
     "name": "stdout",
     "output_type": "stream",
     "text": [
      "5 6 7 8 9 10 \n",
      "Reusable\n",
      "5 6 7 8 9 10 "
     ]
    }
   ],
   "source": [
    "#to make reusable codes\n",
    "\n",
    "class Counter (object):\n",
    "    def __init__ (self,low,high):\n",
    "        self.low=low\n",
    "        self.high=high\n",
    "    def __iter__(self):\n",
    "        counter = self.low\n",
    "        while counter<=self.high:\n",
    "            yield counter\n",
    "            counter+=1\n",
    "\n",
    "gobj = Counter(5,10)\n",
    "for x in gobj:\n",
    "    print(x,end=\" \")\n",
    "print (\"\\nReusable\")\n",
    "for x in gobj:\n",
    "    print(x,end=\" \")"
   ]
  },
  {
   "cell_type": "code",
   "execution_count": 57,
   "metadata": {},
   "outputs": [
    {
     "name": "stdout",
     "output_type": "stream",
     "text": [
      "5 6 7 8 9 10 "
     ]
    }
   ],
   "source": [
    "def counter_generator(low,high):\n",
    "    while low<= high:\n",
    "        yield low\n",
    "        low+=1\n",
    "    \n",
    "    return\n",
    "\n",
    "for i in counter_generator(5,10):\n",
    "    print (i,end=\" \")"
   ]
  },
  {
   "cell_type": "markdown",
   "metadata": {},
   "source": [
    "## Generators Expressions"
   ]
  },
  {
   "cell_type": "code",
   "execution_count": 68,
   "metadata": {},
   "outputs": [
    {
     "data": {
      "text/plain": [
       "[1, 4, 9, 16, 25, 36, 49, 64, 81]"
      ]
     },
     "execution_count": 68,
     "metadata": {},
     "output_type": "execute_result"
    }
   ],
   "source": [
    "[x*x for x in range(1,10)]"
   ]
  },
  {
   "cell_type": "code",
   "execution_count": 72,
   "metadata": {},
   "outputs": [
    {
     "data": {
      "text/plain": [
       "<generator object <genexpr> at 0x0000026C608EC4F8>"
      ]
     },
     "execution_count": 72,
     "metadata": {},
     "output_type": "execute_result"
    }
   ],
   "source": [
    "(x*x for x in range (1,10))"
   ]
  },
  {
   "cell_type": "code",
   "execution_count": 70,
   "metadata": {},
   "outputs": [
    {
     "data": {
      "text/plain": [
       "285"
      ]
     },
     "execution_count": 70,
     "metadata": {},
     "output_type": "execute_result"
    }
   ],
   "source": [
    "sum([x*x for x in range(1,10)]) #more memory usage"
   ]
  },
  {
   "cell_type": "code",
   "execution_count": 71,
   "metadata": {},
   "outputs": [
    {
     "data": {
      "text/plain": [
       "285"
      ]
     },
     "execution_count": 71,
     "metadata": {},
     "output_type": "execute_result"
    }
   ],
   "source": [
    "sum(x*x for x in range (1,10)) #less memory usage"
   ]
  },
  {
   "cell_type": "markdown",
   "metadata": {},
   "source": [
    "## Closure "
   ]
  },
  {
   "cell_type": "code",
   "execution_count": 83,
   "metadata": {},
   "outputs": [
    {
     "data": {
      "text/plain": [
       "31"
      ]
     },
     "execution_count": 83,
     "metadata": {},
     "output_type": "execute_result"
    }
   ],
   "source": [
    "def add_number(num):\n",
    "    def adder(number):\n",
    "        'adder is a closure'\n",
    "        return num + number\n",
    "    return adder\n",
    "\n",
    "a_10 = add_number(10)\n",
    "a_10(21)"
   ]
  },
  {
   "cell_type": "code",
   "execution_count": 81,
   "metadata": {},
   "outputs": [
    {
     "data": {
      "text/plain": [
       "25"
      ]
     },
     "execution_count": 81,
     "metadata": {},
     "output_type": "execute_result"
    }
   ],
   "source": [
    "a_5=add_number(5)\n",
    "a_5(20)\n",
    "\n",
    "#adder is a closure which adds a given number to a pre-defined one."
   ]
  },
  {
   "cell_type": "markdown",
   "metadata": {},
   "source": [
    "## List Comprehensions"
   ]
  },
  {
   "cell_type": "code",
   "execution_count": 2,
   "metadata": {},
   "outputs": [
    {
     "data": {
      "text/plain": [
       "[0, 1, 4, 9, 16, 25, 36, 49, 64, 81]"
      ]
     },
     "execution_count": 2,
     "metadata": {},
     "output_type": "execute_result"
    }
   ],
   "source": [
    "squares=[]\n",
    "for i in range(10):\n",
    "    squares.append(i*i)\n",
    "squares"
   ]
  },
  {
   "cell_type": "code",
   "execution_count": 12,
   "metadata": {},
   "outputs": [
    {
     "data": {
      "text/plain": [
       "[1.1772000000000002, 25.4448, 62.467200000000005, 4.9248, 7.322400000000001]"
      ]
     },
     "execution_count": 12,
     "metadata": {},
     "output_type": "execute_result"
    }
   ],
   "source": [
    "txns = [1.09, 23.56, 57.84, 4.56, 6.78]\n",
    "tax_rate=0.08\n",
    "def get_price_with_tax(txn):\n",
    "    return txn * (1+tax_rate)\n",
    "\n",
    "with_tax=map(get_price_with_tax,txns)\n",
    "list(with_tax)"
   ]
  },
  {
   "cell_type": "markdown",
   "metadata": {},
   "source": [
    "## use of list comprehension"
   ]
  },
  {
   "cell_type": "code",
   "execution_count": 4,
   "metadata": {},
   "outputs": [
    {
     "data": {
      "text/plain": [
       "[0, 1, 4, 9, 16, 25, 36, 49, 64, 81]"
      ]
     },
     "execution_count": 4,
     "metadata": {},
     "output_type": "execute_result"
    }
   ],
   "source": [
    "squares=[x*x for x in range(10)]\n",
    "squares"
   ]
  },
  {
   "cell_type": "code",
   "execution_count": 5,
   "metadata": {},
   "outputs": [
    {
     "data": {
      "text/plain": [
       "[1.1772000000000002, 25.4448, 62.467200000000005, 4.9248, 7.322400000000001]"
      ]
     },
     "execution_count": 5,
     "metadata": {},
     "output_type": "execute_result"
    }
   ],
   "source": [
    "txns = [1.09, 23.56, 57.84, 4.56, 6.78]\n",
    "tax_rate=0.08\n",
    "def get_price_with_tax(txn):\n",
    "    return txn * (1+tax_rate)\n",
    "with_tax=[get_price_with_tax(txn) for txn in txns]\n",
    "with_tax"
   ]
  },
  {
   "cell_type": "markdown",
   "metadata": {},
   "source": [
    "## Using conditional logic"
   ]
  },
  {
   "cell_type": "code",
   "execution_count": 7,
   "metadata": {},
   "outputs": [
    {
     "data": {
      "text/plain": [
       "['e', 'o', 'e', 'a', 'e', 'o', 'e', 'a']"
      ]
     },
     "execution_count": 7,
     "metadata": {},
     "output_type": "execute_result"
    }
   ],
   "source": [
    "sentence = 'the  rocket came from the mars'\n",
    "vowel=[x for x in sentence if x in 'aeiou']\n",
    "vowel"
   ]
  },
  {
   "cell_type": "code",
   "execution_count": 8,
   "metadata": {},
   "outputs": [
    {
     "data": {
      "text/plain": [
       "['T',\n",
       " 'h',\n",
       " 'r',\n",
       " 'c',\n",
       " 'k',\n",
       " 't',\n",
       " 'w',\n",
       " 'h',\n",
       " 'w',\n",
       " 's',\n",
       " 'n',\n",
       " 'm',\n",
       " 'd',\n",
       " 'T',\n",
       " 'd',\n",
       " 'c',\n",
       " 'm',\n",
       " 'b',\n",
       " 'c',\n",
       " 'k',\n",
       " 'f',\n",
       " 'r',\n",
       " 'm',\n",
       " 'M',\n",
       " 'r',\n",
       " 's',\n",
       " 'b',\n",
       " 'c',\n",
       " 's',\n",
       " 'h',\n",
       " 'm',\n",
       " 's',\n",
       " 's',\n",
       " 'd',\n",
       " 'h',\n",
       " 's',\n",
       " 'f',\n",
       " 'r',\n",
       " 'n',\n",
       " 'd',\n",
       " 's']"
      ]
     },
     "execution_count": 8,
     "metadata": {},
     "output_type": "execute_result"
    }
   ],
   "source": [
    "sentence = 'The rocket, who was named Ted, came back from Mars because he missed his friends.'\n",
    "def is_consonant(letter):\n",
    "    return letter.isalpha() and letter.lower() not in 'aeiou'\n",
    "\n",
    "consonant=[x for x in sentence if is_consonant(x)]\n",
    "consonant"
   ]
  },
  {
   "cell_type": "code",
   "execution_count": 10,
   "metadata": {},
   "outputs": [
    {
     "data": {
      "text/plain": [
       "[1.25, 0, 10.22, 3.78, 0, 1.16]"
      ]
     },
     "execution_count": 10,
     "metadata": {},
     "output_type": "execute_result"
    }
   ],
   "source": [
    "original_prices = [1.25, -9.45, 10.22, 3.78, -5.92, 1.16]\n",
    "price = [i if i>0 else 0 for i in original_prices]\n",
    "price"
   ]
  },
  {
   "cell_type": "code",
   "execution_count": 11,
   "metadata": {},
   "outputs": [
    {
     "data": {
      "text/plain": [
       "[1.25, 0, 10.22, 3.78, 0, 1.16]"
      ]
     },
     "execution_count": 11,
     "metadata": {},
     "output_type": "execute_result"
    }
   ],
   "source": [
    "def get_price(price):\n",
    "    return price if price>0 else 0\n",
    "\n",
    "original_prices = [1.25, -9.45, 10.22, 3.78, -5.92, 1.16]\n",
    "price = [get_price(x) for x in original_prices]\n",
    "price"
   ]
  },
  {
   "cell_type": "markdown",
   "metadata": {},
   "source": [
    "## Set and Dictionary comprehesion"
   ]
  },
  {
   "cell_type": "code",
   "execution_count": 19,
   "metadata": {},
   "outputs": [
    {
     "data": {
      "text/plain": [
       "{'a', 'e', 'i', 'u'}"
      ]
     },
     "execution_count": 19,
     "metadata": {},
     "output_type": "execute_result"
    }
   ],
   "source": [
    "quote = 'life, uh, finds a way!'\n",
    "vowel = {x for x in quote if x in 'aeiou'}\n",
    "vowel"
   ]
  },
  {
   "cell_type": "code",
   "execution_count": 16,
   "metadata": {},
   "outputs": [
    {
     "data": {
      "text/plain": [
       "{0: 0, 1: 1, 2: 4, 3: 9, 4: 16, 5: 25, 6: 36, 7: 49, 8: 64, 9: 81}"
      ]
     },
     "execution_count": 16,
     "metadata": {},
     "output_type": "execute_result"
    }
   ],
   "source": [
    "squares ={i:i*i for i in range(10)}\n",
    "squares"
   ]
  },
  {
   "cell_type": "markdown",
   "metadata": {},
   "source": [
    "## Nested comprehension"
   ]
  },
  {
   "cell_type": "code",
   "execution_count": 22,
   "metadata": {},
   "outputs": [
    {
     "data": {
      "text/plain": [
       "{'Austin': [0, 1, 2, 3, 4, 5, 6],\n",
       " 'Tacoma': [0, 1, 2, 3, 4, 5, 6],\n",
       " 'Topeka': [0, 1, 2, 3, 4, 5, 6],\n",
       " 'Sacramento': [0, 1, 2, 3, 4, 5, 6],\n",
       " 'Charlotte': [0, 1, 2, 3, 4, 5, 6]}"
      ]
     },
     "execution_count": 22,
     "metadata": {},
     "output_type": "execute_result"
    }
   ],
   "source": [
    "cities = ['Austin', 'Tacoma', 'Topeka', 'Sacramento', 'Charlotte']\n",
    "temps = {city:[x for x in range(7)] for city in cities}\n",
    "temps"
   ]
  },
  {
   "cell_type": "markdown",
   "metadata": {},
   "source": [
    "## To create matrix"
   ]
  },
  {
   "cell_type": "code",
   "execution_count": 30,
   "metadata": {},
   "outputs": [
    {
     "data": {
      "text/plain": [
       "[[0, 1, 2, 3, 4],\n",
       " [0, 1, 2, 3, 4],\n",
       " [0, 1, 2, 3, 4],\n",
       " [0, 1, 2, 3, 4],\n",
       " [0, 1, 2, 3, 4],\n",
       " [0, 1, 2, 3, 4]]"
      ]
     },
     "execution_count": 30,
     "metadata": {},
     "output_type": "execute_result"
    }
   ],
   "source": [
    "matrix = [[x for x in range(5)] for x in range(6)]\n",
    "matrix"
   ]
  },
  {
   "cell_type": "code",
   "execution_count": 32,
   "metadata": {},
   "outputs": [
    {
     "data": {
      "text/plain": [
       "[0, 0, 0, 1, 1, 1, 2, 2, 2]"
      ]
     },
     "execution_count": 32,
     "metadata": {},
     "output_type": "execute_result"
    }
   ],
   "source": [
    "matrix = [[0, 0, 0],\n",
    "     [1, 1, 1],\n",
    "     [2, 2, 2]]\n",
    "\n",
    "flat = [num for row in matrix for num in row]\n",
    "flat"
   ]
  }
 ],
 "metadata": {
  "kernelspec": {
   "display_name": "Python 3",
   "language": "python",
   "name": "python3"
  },
  "language_info": {
   "codemirror_mode": {
    "name": "ipython",
    "version": 3
   },
   "file_extension": ".py",
   "mimetype": "text/x-python",
   "name": "python",
   "nbconvert_exporter": "python",
   "pygments_lexer": "ipython3",
   "version": "3.7.3"
  }
 },
 "nbformat": 4,
 "nbformat_minor": 2
}

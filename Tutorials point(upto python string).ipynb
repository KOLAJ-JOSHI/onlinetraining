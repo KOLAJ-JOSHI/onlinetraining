{
 "cells": [
  {
   "cell_type": "markdown",
   "metadata": {},
   "source": [
    "# Python-Variables type"
   ]
  },
  {
   "cell_type": "markdown",
   "metadata": {},
   "source": [
    "# Assigning values to variables"
   ]
  },
  {
   "cell_type": "code",
   "execution_count": 1,
   "metadata": {},
   "outputs": [
    {
     "name": "stdout",
     "output_type": "stream",
     "text": [
      "100 100.0 DOM\n"
     ]
    }
   ],
   "source": [
    "counter = 100\n",
    "miles = 100.0\n",
    "name=\"DOM\"\n",
    "\n",
    "print (counter,miles,name)"
   ]
  },
  {
   "cell_type": "markdown",
   "metadata": {},
   "source": [
    "# Multiple Assignment"
   ]
  },
  {
   "cell_type": "code",
   "execution_count": 2,
   "metadata": {},
   "outputs": [
    {
     "name": "stdout",
     "output_type": "stream",
     "text": [
      "1 1 1\n"
     ]
    }
   ],
   "source": [
    "x=y=z=1\n",
    "print(x,y,z)"
   ]
  },
  {
   "cell_type": "code",
   "execution_count": 3,
   "metadata": {},
   "outputs": [
    {
     "name": "stdout",
     "output_type": "stream",
     "text": [
      "10 14.5 Brian\n"
     ]
    }
   ],
   "source": [
    "a,b,c=10,14.5,\"Brian\"\n",
    "print(a,b,c)"
   ]
  },
  {
   "cell_type": "markdown",
   "metadata": {},
   "source": [
    "# Python Strings"
   ]
  },
  {
   "cell_type": "code",
   "execution_count": 4,
   "metadata": {},
   "outputs": [
    {
     "name": "stdout",
     "output_type": "stream",
     "text": [
      "Hello World\n",
      "H\n",
      "lo W\n",
      "Hello WorldHello World\n",
      "Hello WorldPython\n"
     ]
    }
   ],
   "source": [
    "str = \"Hello World\"\n",
    "\n",
    "print (str)\n",
    "print (str[0])\n",
    "print (str[3:7])\n",
    "print (str*2)\n",
    "print (str+\"Python\")"
   ]
  },
  {
   "cell_type": "markdown",
   "metadata": {},
   "source": [
    "# Python If Statement"
   ]
  },
  {
   "cell_type": "code",
   "execution_count": null,
   "metadata": {},
   "outputs": [],
   "source": []
  },
  {
   "cell_type": "code",
   "execution_count": 5,
   "metadata": {},
   "outputs": [
    {
     "name": "stdout",
     "output_type": "stream",
     "text": [
      "1 - Got a true expression value\n",
      "100\n",
      "Good bye!\n"
     ]
    }
   ],
   "source": [
    "var1 = 100\n",
    "if var1:\n",
    "   print (\"1 - Got a true expression value\")\n",
    "   print (var1)\n",
    "\n",
    "var2 = 0\n",
    "if var2:\n",
    "   print (\"2 - Got a true expression value\")\n",
    "   print (var2)\n",
    "print (\"Good bye!\")"
   ]
  },
  {
   "cell_type": "markdown",
   "metadata": {},
   "source": [
    "# IF - ELIF-ElSE Statements"
   ]
  },
  {
   "cell_type": "code",
   "execution_count": 6,
   "metadata": {},
   "outputs": [
    {
     "name": "stdout",
     "output_type": "stream",
     "text": [
      "You can vote\n"
     ]
    }
   ],
   "source": [
    "age = 19\n",
    "\n",
    "if (age>=18):\n",
    "    print(\"You can vote\")\n",
    "else:\n",
    "    print(\"you can't vote\")"
   ]
  },
  {
   "cell_type": "code",
   "execution_count": 7,
   "metadata": {},
   "outputs": [
    {
     "name": "stdout",
     "output_type": "stream",
     "text": [
      "Adult\n",
      "32\n"
     ]
    }
   ],
   "source": [
    "age = 32\n",
    "\n",
    "if (age<13):\n",
    "    print(\"Child\")\n",
    "    print(age)\n",
    "    \n",
    "elif (age>=13 and age<20):\n",
    "    print(\"teenage\")\n",
    "    print(age)\n",
    "    \n",
    "else:\n",
    "    print(\"Adult\")\n",
    "    print(age)"
   ]
  },
  {
   "cell_type": "markdown",
   "metadata": {},
   "source": [
    "## Nested if"
   ]
  },
  {
   "cell_type": "code",
   "execution_count": 8,
   "metadata": {},
   "outputs": [
    {
     "name": "stdout",
     "output_type": "stream",
     "text": [
      "you are under 20\n",
      "Teen\n"
     ]
    }
   ],
   "source": [
    "age=19\n",
    "\n",
    "if (age<20):\n",
    "    print(\"you are under 20\")\n",
    "    if (age<5):\n",
    "        print(\"Kid\")\n",
    "    elif (age>=5 and age<13):\n",
    "        print (\"Child\")\n",
    "    else:\n",
    "        print (\"Teen\")\n",
    "else:\n",
    "    print(\"you are over 20\")"
   ]
  },
  {
   "cell_type": "markdown",
   "metadata": {},
   "source": [
    "## While Loop"
   ]
  },
  {
   "cell_type": "code",
   "execution_count": 9,
   "metadata": {},
   "outputs": [
    {
     "name": "stdout",
     "output_type": "stream",
     "text": [
      "the count is : 0\n",
      "the count is : 1\n",
      "the count is : 2\n",
      "the count is : 3\n",
      "the count is : 4\n",
      "the count is : 5\n",
      "the count is : 6\n",
      "the count is : 7\n",
      "the count is : 8\n",
      "the count is : 9\n"
     ]
    }
   ],
   "source": [
    "count=0\n",
    "\n",
    "while (count<10):\n",
    "    print(\"the count is :\",count)\n",
    "    count+=1\n"
   ]
  },
  {
   "cell_type": "markdown",
   "metadata": {},
   "source": [
    "## while with else"
   ]
  },
  {
   "cell_type": "code",
   "execution_count": 10,
   "metadata": {},
   "outputs": [
    {
     "name": "stdout",
     "output_type": "stream",
     "text": [
      "0 is less than 5\n",
      "1 is less than 5\n",
      "2 is less than 5\n",
      "3 is less than 5\n",
      "4 is less than 5\n",
      "5 is not less than 5\n"
     ]
    }
   ],
   "source": [
    "count = 0\n",
    "\n",
    "while (count<5):\n",
    "    print(count,\"is less than 5\")\n",
    "    count+=1\n",
    "else:\n",
    "    print(count,\"is not less than 5\")"
   ]
  },
  {
   "cell_type": "markdown",
   "metadata": {},
   "source": [
    "## For Loop"
   ]
  },
  {
   "cell_type": "code",
   "execution_count": 11,
   "metadata": {},
   "outputs": [
    {
     "name": "stdout",
     "output_type": "stream",
     "text": [
      "current letter is : p\n",
      "current letter is : y\n",
      "current letter is : t\n",
      "current letter is : h\n",
      "current letter is : o\n",
      "current letter is : n\n",
      "Current fruit: banana\n",
      "Current fruit: mango\n",
      "Current fruit: apple\n"
     ]
    }
   ],
   "source": [
    "for letter in 'python':\n",
    "    print(\"current letter is :\",letter)\n",
    "    \n",
    "fruits=['banana' , 'mango' , 'apple']\n",
    "for fruit in fruits:\n",
    "    print(\"Current fruit:\",fruit)"
   ]
  },
  {
   "cell_type": "markdown",
   "metadata": {},
   "source": [
    "# iterating by sequence index"
   ]
  },
  {
   "cell_type": "code",
   "execution_count": 12,
   "metadata": {},
   "outputs": [
    {
     "name": "stdout",
     "output_type": "stream",
     "text": [
      "Current fruit : banana\n",
      "Current fruit : mango\n",
      "Current fruit : apple\n"
     ]
    }
   ],
   "source": [
    "for index in range(len(fruits)):\n",
    "    print(\"Current fruit :\", fruits[index])"
   ]
  },
  {
   "cell_type": "markdown",
   "metadata": {},
   "source": [
    "## Using else statements with loops\n",
    "\n",
    "The following example illustrates the combination of an else statement with a for statement that searches for prime numbers from 10 through 20."
   ]
  },
  {
   "cell_type": "code",
   "execution_count": 13,
   "metadata": {},
   "outputs": [
    {
     "name": "stdout",
     "output_type": "stream",
     "text": [
      "10 equals 2 * 5\n",
      "11 is a prime numberr\n",
      "12 equals 2 * 6\n",
      "13 is a prime numberr\n",
      "14 equals 2 * 7\n",
      "15 equals 3 * 5\n",
      "16 equals 2 * 8\n",
      "17 is a prime numberr\n",
      "18 equals 2 * 9\n",
      "19 is a prime numberr\n"
     ]
    }
   ],
   "source": [
    "for num in range(10,20):\n",
    "    for i in range(2,num):\n",
    "        if (num%i==0):\n",
    "            j=num/i\n",
    "            print (\"%d equals %d * %d\" %(num,i,j))\n",
    "            break\n",
    "    \n",
    "    else:\n",
    "        print(num,\"is a prime numberr\")"
   ]
  },
  {
   "cell_type": "markdown",
   "metadata": {},
   "source": [
    "## Nested Loops\n",
    "\n",
    "The following program uses a nested for loop to find the prime numbers from 2 to 100 "
   ]
  },
  {
   "cell_type": "code",
   "execution_count": 14,
   "metadata": {},
   "outputs": [
    {
     "name": "stdout",
     "output_type": "stream",
     "text": [
      "2  is prime\n",
      "3  is prime\n",
      "5  is prime\n",
      "7  is prime\n",
      "11  is prime\n",
      "13  is prime\n",
      "17  is prime\n",
      "19  is prime\n",
      "23  is prime\n",
      "29  is prime\n",
      "31  is prime\n",
      "37  is prime\n",
      "41  is prime\n",
      "43  is prime\n",
      "47  is prime\n",
      "53  is prime\n",
      "59  is prime\n",
      "61  is prime\n",
      "67  is prime\n",
      "71  is prime\n",
      "73  is prime\n",
      "79  is prime\n",
      "83  is prime\n",
      "89  is prime\n",
      "97  is prime\n"
     ]
    }
   ],
   "source": [
    "i = 2\n",
    "while(i < 100):\n",
    "   j = 2\n",
    "   while(j <= (i/j)):\n",
    "      if not(i%j): break\n",
    "      j = j + 1\n",
    "   if (j > i/j) : print (i, \" is prime\")\n",
    "   i = i + 1"
   ]
  },
  {
   "cell_type": "markdown",
   "metadata": {},
   "source": [
    "# Break Statement"
   ]
  },
  {
   "cell_type": "code",
   "execution_count": 15,
   "metadata": {},
   "outputs": [
    {
     "name": "stdout",
     "output_type": "stream",
     "text": [
      "Current letter: p\n",
      "Current letter: y\n",
      "Current letter: t\n"
     ]
    }
   ],
   "source": [
    "for letter in 'python':\n",
    "    if (letter=='h'):\n",
    "        break\n",
    "    print(\"Current letter:\",letter)"
   ]
  },
  {
   "cell_type": "code",
   "execution_count": 16,
   "metadata": {},
   "outputs": [
    {
     "name": "stdout",
     "output_type": "stream",
     "text": [
      "9\n",
      "8\n",
      "7\n",
      "6\n"
     ]
    }
   ],
   "source": [
    "var =9\n",
    "while(var>0):\n",
    "    print(var)\n",
    "    var-=1\n",
    "    if (var==5):\n",
    "        break"
   ]
  },
  {
   "cell_type": "markdown",
   "metadata": {},
   "source": [
    "## Continue Statement"
   ]
  },
  {
   "cell_type": "code",
   "execution_count": 17,
   "metadata": {},
   "outputs": [
    {
     "name": "stdout",
     "output_type": "stream",
     "text": [
      "Current letter: p\n",
      "Current letter: y\n",
      "Current letter: t\n",
      "Current letter: o\n",
      "Current letter: n\n"
     ]
    }
   ],
   "source": [
    "for letter in 'python':\n",
    "    if (letter=='h'):\n",
    "        continue\n",
    "    print(\"Current letter:\",letter)"
   ]
  },
  {
   "cell_type": "markdown",
   "metadata": {},
   "source": [
    "## Python Number"
   ]
  },
  {
   "cell_type": "code",
   "execution_count": 18,
   "metadata": {},
   "outputs": [
    {
     "name": "stdout",
     "output_type": "stream",
     "text": [
      "abs(-5) : 5\n",
      "abs(100.12) : 100.12\n"
     ]
    }
   ],
   "source": [
    "print (\"abs(-5) :\",abs(-5))\n",
    "print (\"abs(100.12) :\",abs(100.12))"
   ]
  },
  {
   "cell_type": "code",
   "execution_count": 19,
   "metadata": {},
   "outputs": [
    {
     "name": "stdout",
     "output_type": "stream",
     "text": [
      "math.ceil(100.12) : 101\n",
      "math.ceil(math.pi) : 4\n",
      "math.ceil(-45.024) : -45\n"
     ]
    }
   ],
   "source": [
    "import math\n",
    "\n",
    "print (\"math.ceil(100.12) :\",math.ceil(100.12))\n",
    "print (\"math.ceil(math.pi) :\",math.ceil(math.pi))\n",
    "print (\"math.ceil(-45.024) :\",math.ceil(-45.024))"
   ]
  },
  {
   "cell_type": "code",
   "execution_count": 20,
   "metadata": {},
   "outputs": [
    {
     "name": "stdout",
     "output_type": "stream",
     "text": [
      "cmp(80,100) : -1\n",
      "cmp(-80,-100) : 1\n",
      "cmp(150,75) : 1\n",
      "cmp(75,75) : 0\n"
     ]
    }
   ],
   "source": [
    "def cmp(a, b): return (a > b) - (a < b)\n",
    "\n",
    "print (\"cmp(80,100) :\", cmp(80,100))\n",
    "print (\"cmp(-80,-100) :\", cmp(-80,-100))\n",
    "print (\"cmp(150,75) :\", cmp(150,75))\n",
    "print (\"cmp(75,75) :\", cmp(75,75))"
   ]
  },
  {
   "cell_type": "code",
   "execution_count": 21,
   "metadata": {},
   "outputs": [
    {
     "name": "stdout",
     "output_type": "stream",
     "text": [
      "math.exp(-45.17) :  2.4150062132629406e-20\n",
      "math.exp(100.12) :  3.0308436140742566e+43\n",
      "math.exp(math.pi) :  23.140692632779267\n"
     ]
    }
   ],
   "source": [
    "print (\"math.exp(-45.17) : \", math.exp(-45.17))\n",
    "print (\"math.exp(100.12) : \", math.exp(100.12))\n",
    "print (\"math.exp(math.pi) : \", math.exp(math.pi))"
   ]
  },
  {
   "cell_type": "code",
   "execution_count": 22,
   "metadata": {},
   "outputs": [
    {
     "name": "stdout",
     "output_type": "stream",
     "text": [
      "math.fabs(-5) : 5.0\n",
      "math.fabs(100.12) : 100.12\n"
     ]
    }
   ],
   "source": [
    "print (\"math.fabs(-5) :\",math.fabs(-5))\n",
    "print (\"math.fabs(100.12) :\",math.fabs(100.12))"
   ]
  },
  {
   "cell_type": "code",
   "execution_count": 23,
   "metadata": {},
   "outputs": [
    {
     "name": "stdout",
     "output_type": "stream",
     "text": [
      "math.floor(100.12) : 100\n",
      "math.floor(math.pi) : 3\n",
      "math.floor(-45.024) : -46\n"
     ]
    }
   ],
   "source": [
    "print (\"math.floor(100.12) :\",math.floor(100.12))\n",
    "print (\"math.floor(math.pi) :\",math.floor(math.pi))\n",
    "print (\"math.floor(-45.024) :\",math.floor(-45.024))"
   ]
  },
  {
   "cell_type": "code",
   "execution_count": 24,
   "metadata": {},
   "outputs": [
    {
     "name": "stdout",
     "output_type": "stream",
     "text": [
      "math.log(100.12) : 4.6063694665635735\n",
      "math.log(math.pi) : 1.1447298858494002\n",
      "math.log(45.024) : 3.8071956809319785\n"
     ]
    }
   ],
   "source": [
    "print (\"math.log(100.12) :\",math.log(100.12))\n",
    "print (\"math.log(math.pi) :\",math.log(math.pi))\n",
    "print (\"math.log(45.024) :\",math.log(45.024))"
   ]
  },
  {
   "cell_type": "code",
   "execution_count": 25,
   "metadata": {},
   "outputs": [
    {
     "name": "stdout",
     "output_type": "stream",
     "text": [
      "math.log10(100.12) : 2.0005208409361854\n",
      "math.log10(math.pi) : 0.49714987269413385\n",
      "math.log10(45.024) : 1.6534440757546516\n"
     ]
    }
   ],
   "source": [
    "print (\"math.log10(100.12) :\",math.log10(100.12))\n",
    "print (\"math.log10(math.pi) :\",math.log10(math.pi))\n",
    "print (\"math.log10(45.024) :\",math.log10(45.024))"
   ]
  },
  {
   "cell_type": "code",
   "execution_count": 26,
   "metadata": {},
   "outputs": [
    {
     "name": "stdout",
     "output_type": "stream",
     "text": [
      "max(80, 100, 1000) :  1000\n",
      "max(-20, 100, 400) :  400\n",
      "max(-80, -20, -10) :  -10\n",
      "max(0, 100, -400) :  100\n"
     ]
    }
   ],
   "source": [
    "print (\"max(80, 100, 1000) : \", max(80, 100, 1000))\n",
    "print (\"max(-20, 100, 400) : \", max(-20, 100, 400))\n",
    "print (\"max(-80, -20, -10) : \", max(-80, -20, -10))\n",
    "print (\"max(0, 100, -400) : \", max(0, 100, -400))"
   ]
  },
  {
   "cell_type": "code",
   "execution_count": 27,
   "metadata": {},
   "outputs": [
    {
     "name": "stdout",
     "output_type": "stream",
     "text": [
      "min(80, 100, 1000) :  80\n",
      "min(-20, 100, 400) :  -20\n",
      "min(-80, -20, -10) :  -80\n",
      "min(0, 100, -400) :  -400\n"
     ]
    }
   ],
   "source": [
    "print (\"min(80, 100, 1000) : \", min(80, 100, 1000))\n",
    "print (\"min(-20, 100, 400) : \", min(-20, 100, 400))\n",
    "print (\"min(-80, -20, -10) : \", min(-80, -20, -10))\n",
    "print (\"min(0, 100, -400) : \", min(0, 100, -400))"
   ]
  },
  {
   "cell_type": "code",
   "execution_count": 28,
   "metadata": {},
   "outputs": [
    {
     "name": "stdout",
     "output_type": "stream",
     "text": [
      "math.modf(math.pi) :  (0.14159265358979312, 3.0)\n",
      "math.modf(100.12) :  (0.12000000000000455, 100.0)\n"
     ]
    }
   ],
   "source": [
    "print (\"math.modf(math.pi) : \", math.modf(math.pi))\n",
    "print (\"math.modf(100.12) : \", math.modf(100.12))"
   ]
  },
  {
   "cell_type": "code",
   "execution_count": 29,
   "metadata": {},
   "outputs": [
    {
     "name": "stdout",
     "output_type": "stream",
     "text": [
      "math.pow(10,2) : 100.0\n",
      "math.pow(10,-2) : 0.01\n"
     ]
    }
   ],
   "source": [
    "print (\"math.pow(10,2) :\",math.pow(10,2))\n",
    "print (\"math.pow(10,-2) :\",math.pow(10,-2))"
   ]
  },
  {
   "cell_type": "code",
   "execution_count": 30,
   "metadata": {},
   "outputs": [
    {
     "name": "stdout",
     "output_type": "stream",
     "text": [
      "round(10.25874,2) : 10.26\n",
      "round(1.000546,3) : 1.001\n"
     ]
    }
   ],
   "source": [
    "print (\"round(10.25874,2) :\",round(10.25874,2))\n",
    "print (\"round(1.000546,3) :\",round(1.000546,3))"
   ]
  },
  {
   "cell_type": "code",
   "execution_count": 31,
   "metadata": {},
   "outputs": [
    {
     "name": "stdout",
     "output_type": "stream",
     "text": [
      "math.sqrt(100) :  10.0\n",
      "math.sqrt(7) :  2.6457513110645907\n",
      "math.sqrt(math.pi) :  1.7724538509055159\n"
     ]
    }
   ],
   "source": [
    "print (\"math.sqrt(100) : \", math.sqrt(100))\n",
    "print (\"math.sqrt(7) : \", math.sqrt(7))\n",
    "print (\"math.sqrt(math.pi) : \", math.sqrt(math.pi))"
   ]
  },
  {
   "cell_type": "markdown",
   "metadata": {},
   "source": [
    "## Random Numbers Function"
   ]
  },
  {
   "cell_type": "code",
   "execution_count": 32,
   "metadata": {},
   "outputs": [
    {
     "name": "stdout",
     "output_type": "stream",
     "text": [
      "random.choice(num) : 5\n",
      "random.choice(text) : i\n"
     ]
    }
   ],
   "source": [
    "import random\n",
    "\n",
    "num =[1,2,3,4,5,6]\n",
    "text =\"My Choice\"\n",
    "\n",
    "print (\"random.choice(num) :\", random.choice(num))\n",
    "print (\"random.choice(text) :\",random.choice(text))"
   ]
  },
  {
   "cell_type": "code",
   "execution_count": 33,
   "metadata": {},
   "outputs": [
    {
     "name": "stdout",
     "output_type": "stream",
     "text": [
      "18\n",
      "10\n"
     ]
    }
   ],
   "source": [
    "print (random.randrange(1,20))\n",
    "print (random.randrange(10,30,3))"
   ]
  },
  {
   "cell_type": "code",
   "execution_count": 34,
   "metadata": {},
   "outputs": [
    {
     "name": "stdout",
     "output_type": "stream",
     "text": [
      "random() :  0.7921312278754571\n",
      "random() :  0.4042796805830918\n"
     ]
    }
   ],
   "source": [
    "# First random number\n",
    "print (\"random() : \", random.random())\n",
    "\n",
    "# Second random number\n",
    "print (\"random() : \", random.random())"
   ]
  },
  {
   "cell_type": "code",
   "execution_count": 35,
   "metadata": {},
   "outputs": [
    {
     "name": "stdout",
     "output_type": "stream",
     "text": [
      "0.5714025946899135\n",
      "0.5714025946899135\n",
      "0.46300735781502145\n"
     ]
    }
   ],
   "source": [
    "random.seed(10)\n",
    "\n",
    "print (random.random())\n",
    "\n",
    "random.seed(10)\n",
    "\n",
    "print (random.random())\n",
    "\n",
    "random.seed(9)\n",
    "\n",
    "print (random.random())"
   ]
  },
  {
   "cell_type": "code",
   "execution_count": 36,
   "metadata": {},
   "outputs": [
    {
     "name": "stdout",
     "output_type": "stream",
     "text": [
      "Reshuffled list :  [5, 20, 16, 10]\n",
      "Reshuffled list :  [10, 5, 16, 20]\n"
     ]
    }
   ],
   "source": [
    "list = [20, 16, 10, 5];\n",
    "random.shuffle(list)\n",
    "print (\"Reshuffled list : \",  list)\n",
    "\n",
    "random.shuffle(list)\n",
    "print (\"Reshuffled list : \",  list)"
   ]
  },
  {
   "cell_type": "code",
   "execution_count": 37,
   "metadata": {},
   "outputs": [
    {
     "name": "stdout",
     "output_type": "stream",
     "text": [
      "13.383255116848803\n",
      "1.927443070684343\n"
     ]
    }
   ],
   "source": [
    "print (random.uniform(10,20))\n",
    "print (random.uniform(1,3))"
   ]
  },
  {
   "cell_type": "code",
   "execution_count": 38,
   "metadata": {},
   "outputs": [
    {
     "name": "stdout",
     "output_type": "stream",
     "text": [
      "2.142805189379827\n",
      "2.142805189379827\n"
     ]
    }
   ],
   "source": [
    "random.seed(10)\n",
    "print (random.uniform(1,3))\n",
    "\n",
    "random.seed(10)\n",
    "print (random.uniform(1,3))"
   ]
  },
  {
   "cell_type": "markdown",
   "metadata": {},
   "source": [
    "## Trigonometric Functions"
   ]
  },
  {
   "cell_type": "code",
   "execution_count": 39,
   "metadata": {},
   "outputs": [
    {
     "name": "stdout",
     "output_type": "stream",
     "text": [
      "sin(0.5) : 0.479425538604203\n",
      "sin(0) : 0.0\n"
     ]
    }
   ],
   "source": [
    "print (\"sin(0.5) :\",math.sin(0.5))\n",
    "print (\"sin(0) :\",math.sin(0))"
   ]
  },
  {
   "cell_type": "code",
   "execution_count": 40,
   "metadata": {},
   "outputs": [
    {
     "name": "stdout",
     "output_type": "stream",
     "text": [
      "cos(0.5) : 0.8775825618903728\n",
      "cos(0) : 1.0\n"
     ]
    }
   ],
   "source": [
    "print (\"cos(0.5) :\",math.cos(0.5))\n",
    "print (\"cos(0) :\",math.cos(0))"
   ]
  },
  {
   "cell_type": "code",
   "execution_count": 41,
   "metadata": {},
   "outputs": [
    {
     "name": "stdout",
     "output_type": "stream",
     "text": [
      "tan(0.5) : 0.5463024898437905\n",
      "tan(0) : 0.0\n"
     ]
    }
   ],
   "source": [
    "print (\"tan(0.5) :\",math.tan(0.5))\n",
    "print (\"tan(0) :\",math.tan(0))"
   ]
  },
  {
   "cell_type": "code",
   "execution_count": 42,
   "metadata": {},
   "outputs": [
    {
     "name": "stdout",
     "output_type": "stream",
     "text": [
      "hypot(3,4) : 5.0\n",
      "hypot(5,12) : 13.0\n"
     ]
    }
   ],
   "source": [
    "print (\"hypot(3,4) :\",math.hypot(3,4))\n",
    "print (\"hypot(5,12) :\",math.hypot(5,12))"
   ]
  },
  {
   "cell_type": "markdown",
   "metadata": {},
   "source": [
    "## radians to degrees"
   ]
  },
  {
   "cell_type": "code",
   "execution_count": 43,
   "metadata": {},
   "outputs": [
    {
     "name": "stdout",
     "output_type": "stream",
     "text": [
      "degrees(3) :  171.88733853924697\n",
      "degrees(math.pi) :  180.0\n",
      "degrees(math.pi/2) :  90.0\n"
     ]
    }
   ],
   "source": [
    "print (\"degrees(3) : \",  math.degrees(3))\n",
    "print (\"degrees(math.pi) : \",  math.degrees(math.pi))\n",
    "print (\"degrees(math.pi/2) : \",  math.degrees(math.pi/2))"
   ]
  },
  {
   "cell_type": "markdown",
   "metadata": {},
   "source": [
    "## degrees to radians"
   ]
  },
  {
   "cell_type": "code",
   "execution_count": 44,
   "metadata": {},
   "outputs": [
    {
     "name": "stdout",
     "output_type": "stream",
     "text": [
      "radians(3) :  0.05235987755982989\n",
      "radians(math.pi) :  0.05483113556160755\n",
      "radians(math.pi/2) :  0.027415567780803774\n"
     ]
    }
   ],
   "source": [
    "print (\"radians(3) : \",  math.radians(3))\n",
    "print (\"radians(math.pi) : \",  math.radians(math.pi))\n",
    "print (\"radians(math.pi/2) : \",  math.radians(math.pi/2))"
   ]
  },
  {
   "cell_type": "code",
   "execution_count": 45,
   "metadata": {},
   "outputs": [
    {
     "name": "stdout",
     "output_type": "stream",
     "text": [
      "1.0 0.7071067811865476 0.49999999999999994\n",
      "57.29577951308232 40.51423422706978 28.647889756541158\n"
     ]
    }
   ],
   "source": [
    "#finding sine values in radians and converting it into degrees\n",
    "\n",
    "x= math.sin(math.pi/2)\n",
    "y = math.sin(math.pi/4)\n",
    "z = math.sin(math.pi/6)\n",
    "print (x,y,z)\n",
    "\n",
    "print (math.degrees(x),math.degrees(y),math.degrees(z))\n"
   ]
  },
  {
   "cell_type": "code",
   "execution_count": 46,
   "metadata": {},
   "outputs": [
    {
     "name": "stdout",
     "output_type": "stream",
     "text": [
      "3.141592653589793\n",
      "180.0\n"
     ]
    }
   ],
   "source": [
    "print (math.pi)\n",
    "\n",
    "print (math.degrees(math.pi))"
   ]
  },
  {
   "cell_type": "markdown",
   "metadata": {},
   "source": [
    "## Built in String Methods"
   ]
  },
  {
   "cell_type": "code",
   "execution_count": 47,
   "metadata": {},
   "outputs": [
    {
     "name": "stdout",
     "output_type": "stream",
     "text": [
      "I am studying python\n"
     ]
    }
   ],
   "source": [
    "strng = \"i am studying python\"\n",
    "print (strng.capitalize())"
   ]
  },
  {
   "cell_type": "code",
   "execution_count": 48,
   "metadata": {},
   "outputs": [
    {
     "name": "stdout",
     "output_type": "stream",
     "text": [
      "1\n",
      "2\n"
     ]
    }
   ],
   "source": [
    "text = \"python is very easy programming language .....in\"\n",
    "sub=\"p\"\n",
    "print (text.count(sub,4,40))\n",
    "sub=\"in\"\n",
    "print (text.count(sub))"
   ]
  },
  {
   "cell_type": "code",
   "execution_count": 74,
   "metadata": {},
   "outputs": [
    {
     "name": "stdout",
     "output_type": "stream",
     "text": [
      "True\n"
     ]
    }
   ],
   "source": [
    "print (text.startswith('pyt'))"
   ]
  },
  {
   "cell_type": "code",
   "execution_count": 49,
   "metadata": {},
   "outputs": [
    {
     "name": "stdout",
     "output_type": "stream",
     "text": [
      "True\n"
     ]
    }
   ],
   "source": [
    "print (text.endswith(\"in\"))"
   ]
  },
  {
   "cell_type": "code",
   "execution_count": 50,
   "metadata": {},
   "outputs": [
    {
     "name": "stdout",
     "output_type": "stream",
     "text": [
      "True\n"
     ]
    }
   ],
   "source": [
    "#endswith() returns true or false if a certain sentence contains the suffix that is checked\n",
    "\n",
    "suffix=\"python\"\n",
    "print(strng.endswith(suffix))"
   ]
  },
  {
   "cell_type": "code",
   "execution_count": 51,
   "metadata": {},
   "outputs": [
    {
     "name": "stdout",
     "output_type": "stream",
     "text": [
      "20\n",
      "5\n"
     ]
    }
   ],
   "source": [
    "#find(str) determines if the str occurs in the text if true then returns its starting point \n",
    "\n",
    "print(text.find('prog'))\n",
    "print (strng.find('stud'))"
   ]
  },
  {
   "cell_type": "code",
   "execution_count": 55,
   "metadata": {},
   "outputs": [
    {
     "name": "stdout",
     "output_type": "stream",
     "text": [
      "9\n",
      "0\n"
     ]
    }
   ],
   "source": [
    "#rfind() returns the last occurence of substring\n",
    "\n",
    "val =\"my my my my\"\n",
    "print (val.rfind('my'))\n",
    "print (val.find('my'))"
   ]
  },
  {
   "cell_type": "code",
   "execution_count": 56,
   "metadata": {},
   "outputs": [
    {
     "name": "stdout",
     "output_type": "stream",
     "text": [
      "-1\n",
      "20\n",
      "5\n"
     ]
    },
    {
     "ename": "ValueError",
     "evalue": "substring not found",
     "output_type": "error",
     "traceback": [
      "\u001b[1;31m---------------------------------------------------------------------------\u001b[0m",
      "\u001b[1;31mValueError\u001b[0m                                Traceback (most recent call last)",
      "\u001b[1;32m<ipython-input-56-93019a08b386>\u001b[0m in \u001b[0;36m<module>\u001b[1;34m\u001b[0m\n\u001b[0;32m      7\u001b[0m \u001b[0mprint\u001b[0m \u001b[1;33m(\u001b[0m\u001b[0mtext\u001b[0m\u001b[1;33m.\u001b[0m\u001b[0mindex\u001b[0m\u001b[1;33m(\u001b[0m\u001b[1;34m'prog'\u001b[0m\u001b[1;33m)\u001b[0m\u001b[1;33m)\u001b[0m\u001b[1;33m\u001b[0m\u001b[1;33m\u001b[0m\u001b[0m\n\u001b[0;32m      8\u001b[0m \u001b[0mprint\u001b[0m \u001b[1;33m(\u001b[0m\u001b[0mstrng\u001b[0m\u001b[1;33m.\u001b[0m\u001b[0mindex\u001b[0m\u001b[1;33m(\u001b[0m\u001b[1;34m'stud'\u001b[0m\u001b[1;33m)\u001b[0m\u001b[1;33m)\u001b[0m\u001b[1;33m\u001b[0m\u001b[1;33m\u001b[0m\u001b[0m\n\u001b[1;32m----> 9\u001b[1;33m \u001b[0mprint\u001b[0m \u001b[1;33m(\u001b[0m\u001b[0mstrng\u001b[0m\u001b[1;33m.\u001b[0m\u001b[0mindex\u001b[0m\u001b[1;33m(\u001b[0m\u001b[1;34m'usa'\u001b[0m\u001b[1;33m)\u001b[0m\u001b[1;33m)\u001b[0m\u001b[1;33m\u001b[0m\u001b[1;33m\u001b[0m\u001b[0m\n\u001b[0m",
      "\u001b[1;31mValueError\u001b[0m: substring not found"
     ]
    }
   ],
   "source": [
    "print (strng.find('usa'))\n",
    "\n",
    "#don't raise any exception in case of string not found\n",
    "\n",
    "#index() is same as find but rasies exception \n",
    "\n",
    "print (text.index('prog'))\n",
    "print (strng.index('stud'))\n",
    "print (strng.index('usa'))"
   ]
  },
  {
   "cell_type": "code",
   "execution_count": 57,
   "metadata": {},
   "outputs": [
    {
     "name": "stdout",
     "output_type": "stream",
     "text": [
      "False\n",
      "False\n"
     ]
    }
   ],
   "source": [
    "#isalnum()\n",
    "#This method returns true if all characters in the string are alphanumeric and \n",
    "#there is at least one character, false otherwise\n",
    "\n",
    "mail1 = \"my mail is abc@gmail.com\"\n",
    "mail2 = \"my mail is xyz123@gmail.com\"\n",
    "\n",
    "print (mail1.isalnum())\n",
    "print (mail2.isalnum())"
   ]
  },
  {
   "cell_type": "code",
   "execution_count": 58,
   "metadata": {},
   "outputs": [
    {
     "name": "stdout",
     "output_type": "stream",
     "text": [
      "False\n",
      "True\n",
      "False\n"
     ]
    }
   ],
   "source": [
    "mail3 = \"mno121@gmail.com\"\n",
    "print (mail3.isalnum())\n",
    "\n",
    "id = \"kolajj123\"\n",
    "print (id.isalnum())\n",
    "\n",
    "id1 = \"kolaj 123\"\n",
    "print (id1.isalnum())"
   ]
  },
  {
   "cell_type": "code",
   "execution_count": 59,
   "metadata": {},
   "outputs": [
    {
     "name": "stdout",
     "output_type": "stream",
     "text": [
      "False\n",
      "False\n",
      "False\n"
     ]
    }
   ],
   "source": [
    "#isalpha()\n",
    "#Returns true if string has at least 1 character and all characters are alphabetic and false otherwise\n",
    "\n",
    "print (id.isalpha())\n",
    "print (mail1.isalpha())\n",
    "\n",
    "name = \"Kolaj Joshi\"\n",
    "print (name.isalpha())"
   ]
  },
  {
   "cell_type": "code",
   "execution_count": 60,
   "metadata": {},
   "outputs": [
    {
     "name": "stdout",
     "output_type": "stream",
     "text": [
      "True\n"
     ]
    }
   ],
   "source": [
    "nam = \"KolajJoshi\"\n",
    "print (nam.isalpha())"
   ]
  },
  {
   "cell_type": "code",
   "execution_count": 61,
   "metadata": {},
   "outputs": [
    {
     "name": "stdout",
     "output_type": "stream",
     "text": [
      "False\n",
      "True\n"
     ]
    }
   ],
   "source": [
    " #isdigit()\n",
    "#Returns true if string contains only digits and false otherwise.\n",
    "\n",
    "num =\"1234 567 890\"\n",
    "phone =\"9867787909\"\n",
    "\n",
    "print (num.isdigit())\n",
    "print(phone.isdigit())"
   ]
  },
  {
   "cell_type": "code",
   "execution_count": 62,
   "metadata": {},
   "outputs": [
    {
     "name": "stdout",
     "output_type": "stream",
     "text": [
      "False\n",
      "True\n",
      "True\n",
      "True\n"
     ]
    }
   ],
   "source": [
    "print (nam.islower())\n",
    "print (id.islower())\n",
    "\n",
    "lname=\"bunny\"\n",
    "fullname=\"kadar khan\"\n",
    "\n",
    "print (lname.islower())\n",
    "print (fullname.islower())\n"
   ]
  },
  {
   "cell_type": "code",
   "execution_count": 63,
   "metadata": {},
   "outputs": [
    {
     "name": "stdout",
     "output_type": "stream",
     "text": [
      "True\n",
      "False\n",
      "True\n",
      "False\n"
     ]
    }
   ],
   "source": [
    "lname=\"MAHARAJ\"\n",
    "id=\"RaJa\"\n",
    "nam=\"KOBE BRYANT\"\n",
    "\n",
    "print (lname.isupper())\n",
    "print (fullname.isupper())\n",
    "print (nam.isupper())\n",
    "print (id.isupper())"
   ]
  },
  {
   "cell_type": "code",
   "execution_count": 64,
   "metadata": {},
   "outputs": [
    {
     "name": "stdout",
     "output_type": "stream",
     "text": [
      "False\n",
      "False\n",
      "True\n"
     ]
    }
   ],
   "source": [
    "#isspace() checks whether the string consists of whitespace\n",
    "\n",
    "print (lname.isspace())\n",
    "print (fullname.isspace())\n",
    "\n",
    "#This method returns true if there are only whitespace characters in the string and \n",
    "#there is at least one character, false otherwise.\n",
    "\n",
    "wspace=\"     \"\n",
    "print (wspace.isspace())"
   ]
  },
  {
   "cell_type": "code",
   "execution_count": 65,
   "metadata": {},
   "outputs": [
    {
     "name": "stdout",
     "output_type": "stream",
     "text": [
      "a-b-c\n",
      "a**b**c\n"
     ]
    }
   ],
   "source": [
    "s = \"-\";\n",
    "seq = (\"a\", \"b\", \"c\"); # This is sequence of strings.\n",
    "print (s.join( seq ))\n",
    "\n",
    "x=\"**\"\n",
    "print (x.join(seq))"
   ]
  },
  {
   "cell_type": "code",
   "execution_count": 66,
   "metadata": {},
   "outputs": [
    {
     "name": "stdout",
     "output_type": "stream",
     "text": [
      "10\n"
     ]
    }
   ],
   "source": [
    "length=\"kolajjoshi\"\n",
    "print (len(length))"
   ]
  },
  {
   "cell_type": "code",
   "execution_count": 75,
   "metadata": {},
   "outputs": [
    {
     "name": "stdout",
     "output_type": "stream",
     "text": [
      "KOLAJJOSHI\n",
      "kobe bryant\n",
      "KOLAJJOSHI\n",
      "kobe bryant\n"
     ]
    }
   ],
   "source": [
    "print(length.upper())\n",
    "print(nam.lower())\n",
    "\n",
    "print (length.swapcase())\n",
    "print (nam.swapcase())"
   ]
  },
  {
   "cell_type": "code",
   "execution_count": 68,
   "metadata": {},
   "outputs": [
    {
     "name": "stdout",
     "output_type": "stream",
     "text": [
      "['Kobe', 'Bryant', 'and', 'Gigi', 'Bryant']\n"
     ]
    }
   ],
   "source": [
    "sentence  = \"Kobe Bryant and Gigi Bryant\"\n",
    "print (sentence.split())"
   ]
  },
  {
   "cell_type": "code",
   "execution_count": 70,
   "metadata": {},
   "outputs": [
    {
     "name": "stdout",
     "output_type": "stream",
     "text": [
      "['Kobe', 'Bryant', 'and Gigi Bryant']\n"
     ]
    }
   ],
   "source": [
    "print (sentence.split(' ',2))"
   ]
  },
  {
   "cell_type": "code",
   "execution_count": 73,
   "metadata": {},
   "outputs": [
    {
     "name": "stdout",
     "output_type": "stream",
     "text": [
      "['Kobe Bryant and Gigi Bryant']\n"
     ]
    }
   ],
   "source": [
    "print (sentence.splitlines())"
   ]
  },
  {
   "cell_type": "code",
   "execution_count": 76,
   "metadata": {},
   "outputs": [
    {
     "name": "stdout",
     "output_type": "stream",
     "text": [
      "kOBE bRYANT AND gIGI bRYANT\n"
     ]
    }
   ],
   "source": [
    "print (sentence.swapcase())"
   ]
  },
  {
   "cell_type": "code",
   "execution_count": null,
   "metadata": {},
   "outputs": [],
   "source": []
  }
 ],
 "metadata": {
  "kernelspec": {
   "display_name": "Python 3",
   "language": "python",
   "name": "python3"
  },
  "language_info": {
   "codemirror_mode": {
    "name": "ipython",
    "version": 3
   },
   "file_extension": ".py",
   "mimetype": "text/x-python",
   "name": "python",
   "nbconvert_exporter": "python",
   "pygments_lexer": "ipython3",
   "version": "3.7.3"
  }
 },
 "nbformat": 4,
 "nbformat_minor": 2
}

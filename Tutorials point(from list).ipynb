{
 "cells": [
  {
   "cell_type": "markdown",
   "metadata": {},
   "source": [
    "## Python list"
   ]
  },
  {
   "cell_type": "code",
   "execution_count": 1,
   "metadata": {},
   "outputs": [
    {
     "name": "stdout",
     "output_type": "stream",
     "text": [
      "1\n",
      "['ram', 'shyam', 'hari']\n"
     ]
    }
   ],
   "source": [
    "#Accesing values in the list\n",
    "\n",
    "list1=[1,5,9,8,7,2,4,3]\n",
    "list2=[\"ram\",\"shyam\",\"hari\"]\n",
    "\n",
    "print (list1[0])\n",
    "print(list2[:])"
   ]
  },
  {
   "cell_type": "code",
   "execution_count": 2,
   "metadata": {},
   "outputs": [
    {
     "name": "stdout",
     "output_type": "stream",
     "text": [
      "value at list2[2] is : hari\n",
      "value at list2[2] is : madhu\n"
     ]
    }
   ],
   "source": [
    "#updating a list\n",
    "\n",
    "print (\"value at list2[2] is :\",list2[2])\n",
    "list2[2]=\"madhu\"\n",
    "print(\"value at list2[2] is :\",list2[2])"
   ]
  },
  {
   "cell_type": "code",
   "execution_count": 3,
   "metadata": {},
   "outputs": [
    {
     "name": "stdout",
     "output_type": "stream",
     "text": [
      "[1, 5, 9, 8, 7, 2, 4, 3]\n",
      "[1, 5, 9, 7, 2, 4, 3]\n"
     ]
    }
   ],
   "source": [
    "#deleting\n",
    "print (list1)\n",
    "del list1[3]\n",
    "print (list1)"
   ]
  },
  {
   "cell_type": "markdown",
   "metadata": {},
   "source": [
    "## Built in list functions"
   ]
  },
  {
   "cell_type": "code",
   "execution_count": 4,
   "metadata": {},
   "outputs": [
    {
     "name": "stdout",
     "output_type": "stream",
     "text": [
      "3\n"
     ]
    }
   ],
   "source": [
    "print (len(list2))\n",
    "\n",
    "#gives length of list"
   ]
  },
  {
   "cell_type": "code",
   "execution_count": 5,
   "metadata": {},
   "outputs": [
    {
     "name": "stdout",
     "output_type": "stream",
     "text": [
      "shyam\n",
      "9\n"
     ]
    }
   ],
   "source": [
    "print (max(list2))\n",
    "print (max(list1))\n",
    "\n",
    "#returns maximum value from the list"
   ]
  },
  {
   "cell_type": "code",
   "execution_count": 6,
   "metadata": {},
   "outputs": [
    {
     "name": "stdout",
     "output_type": "stream",
     "text": [
      "madhu\n",
      "1\n"
     ]
    }
   ],
   "source": [
    "print (min(list2))\n",
    "print (min(list1))\n",
    "\n",
    "#returns minimum value from the list"
   ]
  },
  {
   "cell_type": "code",
   "execution_count": 7,
   "metadata": {},
   "outputs": [
    {
     "name": "stdout",
     "output_type": "stream",
     "text": [
      "tuple in list is : ['ramu', 12, 'kalu', 42]\n"
     ]
    }
   ],
   "source": [
    "atuple=(\"ramu\",12,\"kalu\",42)\n",
    "alist=list(atuple)\n",
    "print (\"tuple in list is :\",alist)\n",
    "\n",
    "#list() is used to convert a tuple into list"
   ]
  },
  {
   "cell_type": "markdown",
   "metadata": {},
   "source": [
    "### List methods"
   ]
  },
  {
   "cell_type": "code",
   "execution_count": 8,
   "metadata": {},
   "outputs": [
    {
     "name": "stdout",
     "output_type": "stream",
     "text": [
      "['ramu', 12, 'kalu', 42, 2009]\n"
     ]
    }
   ],
   "source": [
    "alist.append(2009)\n",
    "print (alist)\n",
    "\n",
    "#append() is used to add a value in the list"
   ]
  },
  {
   "cell_type": "code",
   "execution_count": 9,
   "metadata": {},
   "outputs": [
    {
     "name": "stdout",
     "output_type": "stream",
     "text": [
      "['ramu', 12, 'kalu', 42, 2009, 12]\n",
      "count for 12 in the list 2\n"
     ]
    }
   ],
   "source": [
    "alist.append(12)\n",
    "print (alist)\n",
    "\n",
    "print (\"count for 12 in the list\",alist.count(12))"
   ]
  },
  {
   "cell_type": "code",
   "execution_count": 10,
   "metadata": {},
   "outputs": [
    {
     "name": "stdout",
     "output_type": "stream",
     "text": [
      "list after extending : [1, 2, 3, 4, 5, 6]\n"
     ]
    }
   ],
   "source": [
    "l1=[1,2,3]\n",
    "l2=[4,5,6]\n",
    "\n",
    "l1.extend(l2)\n",
    "print(\"list after extending :\",l1)"
   ]
  },
  {
   "cell_type": "code",
   "execution_count": 11,
   "metadata": {},
   "outputs": [
    {
     "name": "stdout",
     "output_type": "stream",
     "text": [
      "5\n",
      "3\n",
      "index of mam 2\n"
     ]
    }
   ],
   "source": [
    "print (l1.index(6))\n",
    "\n",
    "print (l1.index(4))\n",
    "\n",
    "l2=[\"Ram\",\"nam\",\"mam\",\"dham\"]\n",
    "print (\"index of mam\",l2.index('mam'))\n",
    "\n",
    "#returns index of value"
   ]
  },
  {
   "cell_type": "code",
   "execution_count": 12,
   "metadata": {},
   "outputs": [
    {
     "name": "stdout",
     "output_type": "stream",
     "text": [
      "[3, 4, 5, 6]\n"
     ]
    }
   ],
   "source": [
    "#list.insert(index, obj)\n",
    "#Inserts object obj into list at offset index\n",
    "\n",
    "blist = [4,5,6]\n",
    "blist.insert(0,3)\n",
    "print(blist)"
   ]
  },
  {
   "cell_type": "code",
   "execution_count": 13,
   "metadata": {},
   "outputs": [
    {
     "name": "stdout",
     "output_type": "stream",
     "text": [
      "Removed value : 6\n",
      "after removal : [3, 4, 5]\n",
      "removed value : 3\n",
      "after removal : [4, 5]\n"
     ]
    }
   ],
   "source": [
    "#list.pop(obj=list[-1])\n",
    "#Removes and returns last object or obj from list\n",
    "\n",
    "print (\"Removed value :\",blist.pop())\n",
    "print (\"after removal :\", blist)\n",
    "\n",
    "print (\"removed value :\",blist.pop(0))\n",
    "print (\"after removal :\",blist)"
   ]
  },
  {
   "cell_type": "code",
   "execution_count": 14,
   "metadata": {},
   "outputs": [
    {
     "name": "stdout",
     "output_type": "stream",
     "text": [
      "reverse order : [9, 8, 7, 6, 5, 4, 3, 2, 1]\n"
     ]
    }
   ],
   "source": [
    "#list.reverse()\n",
    "#Reverses objects of list in place\n",
    "\n",
    "num =[1,2,3,4,5,6,7,8,9]\n",
    "num.reverse()\n",
    "\n",
    "#print (\"reverse order :\", num.reverse())\n",
    "\n",
    "print (\"reverse order :\", num)"
   ]
  },
  {
   "cell_type": "code",
   "execution_count": 15,
   "metadata": {},
   "outputs": [
    {
     "name": "stdout",
     "output_type": "stream",
     "text": [
      "sorting in ascending : [3, 4, 5, 6, 8]\n"
     ]
    }
   ],
   "source": [
    "#list.sort([func])\n",
    "#Sorts objects of list, use compare func if given\n",
    "\n",
    "a=[8,5,3,4,6]\n",
    "a.sort()\n",
    "print ('sorting in ascending :',a)"
   ]
  },
  {
   "cell_type": "code",
   "execution_count": 16,
   "metadata": {},
   "outputs": [
    {
     "name": "stdout",
     "output_type": "stream",
     "text": [
      "sorting in descending : [8, 6, 5, 4, 3]\n"
     ]
    }
   ],
   "source": [
    "a.sort(reverse=True)\n",
    "print ('sorting in descending :',a)"
   ]
  },
  {
   "cell_type": "markdown",
   "metadata": {},
   "source": [
    "## Python Tuples"
   ]
  },
  {
   "cell_type": "code",
   "execution_count": 17,
   "metadata": {},
   "outputs": [
    {
     "name": "stdout",
     "output_type": "stream",
     "text": [
      "4\n",
      "('mam', 'sam', 'nam')\n"
     ]
    }
   ],
   "source": [
    "#accesing values in tuples \n",
    "\n",
    "tup1 = (1,2,3,4,5)\n",
    "tup2= ('ram','mam','sam','nam')\n",
    "print (tup1[3])\n",
    "print (tup2[1:])"
   ]
  },
  {
   "cell_type": "code",
   "execution_count": 18,
   "metadata": {},
   "outputs": [
    {
     "name": "stdout",
     "output_type": "stream",
     "text": [
      "(1, 2, 3, 4, 5)\n",
      "After update : (1, 2, 3, 4, 5, 'ram', 'mam', 'sam', 'nam')\n"
     ]
    }
   ],
   "source": [
    "#Updating tuples \n",
    "\n",
    "print (tup1)\n",
    "\n",
    "#'tuple' object does not support item assignment\n",
    "#tup1[2]=\"updated\"\n",
    "#print (\"After update :\",tup1)  \n",
    "\n",
    "tup3=tup1+tup2\n",
    "print (\"After update :\",tup3)"
   ]
  },
  {
   "cell_type": "code",
   "execution_count": 19,
   "metadata": {},
   "outputs": [],
   "source": [
    "#Deletion\n",
    "\n",
    "#tuple object doesnot support item deletion\n",
    "#del tup3[3]\n",
    "#print (tup3[3])\n",
    "#instead we can delete tuple i.e del tup"
   ]
  },
  {
   "cell_type": "code",
   "execution_count": 20,
   "metadata": {},
   "outputs": [
    {
     "name": "stdout",
     "output_type": "stream",
     "text": [
      "(5, 6, 3, 1, 7, 9)\n",
      "length of tuple = 6\n",
      "maximum item in the tuple = 9\n",
      "minimum item in the tuple = 1\n"
     ]
    }
   ],
   "source": [
    "tup3=(5,6,3,1,7,9)\n",
    "print (tup3)\n",
    "\n",
    "print (\"length of tuple =\",len(tup3))\n",
    "\n",
    "print (\"maximum item in the tuple =\",max(tup3))\n",
    "\n",
    "print (\"minimum item in the tuple =\",min(tup3))"
   ]
  },
  {
   "cell_type": "code",
   "execution_count": 21,
   "metadata": {},
   "outputs": [
    {
     "name": "stdout",
     "output_type": "stream",
     "text": [
      "list into tuple : (2, 4, 6, 7, 0)\n"
     ]
    }
   ],
   "source": [
    "list1=[2,4,6,7,0]\n",
    "\n",
    "print (\"list into tuple :\",tuple(list1))"
   ]
  },
  {
   "cell_type": "markdown",
   "metadata": {},
   "source": [
    "## Python Date and time"
   ]
  },
  {
   "cell_type": "code",
   "execution_count": 22,
   "metadata": {},
   "outputs": [
    {
     "name": "stdout",
     "output_type": "stream",
     "text": [
      "current local time is : time.struct_time(tm_year=2020, tm_mon=2, tm_mday=5, tm_hour=15, tm_min=53, tm_sec=2, tm_wday=2, tm_yday=36, tm_isdst=0)\n"
     ]
    }
   ],
   "source": [
    "import time\n",
    "\n",
    "\n",
    "#getting current time\n",
    "localtime = time.localtime(time.time())\n",
    "print (\"current local time is :\",localtime)"
   ]
  },
  {
   "cell_type": "code",
   "execution_count": 23,
   "metadata": {},
   "outputs": [
    {
     "name": "stdout",
     "output_type": "stream",
     "text": [
      "current formatted time is : Wed Feb  5 15:53:02 2020\n"
     ]
    }
   ],
   "source": [
    "#getting formatted time\n",
    "\n",
    "localtime=time.asctime(localtime)\n",
    "\n",
    "print (\"current formatted time is :\",localtime)"
   ]
  },
  {
   "cell_type": "code",
   "execution_count": 24,
   "metadata": {},
   "outputs": [
    {
     "name": "stdout",
     "output_type": "stream",
     "text": [
      "calendar for february 2020 is    February 2020\n",
      "Mo Tu We Th Fr Sa Su\n",
      "                1  2\n",
      " 3  4  5  6  7  8  9\n",
      "10 11 12 13 14 15 16\n",
      "17 18 19 20 21 22 23\n",
      "24 25 26 27 28 29\n",
      "\n"
     ]
    }
   ],
   "source": [
    "#getting calendar for a month\n",
    "\n",
    "import calendar\n",
    "\n",
    "cal=calendar.month(2020,2)\n",
    "print (\"calendar for february 2020 is\",cal)"
   ]
  },
  {
   "cell_type": "markdown",
   "metadata": {},
   "source": [
    "## Functions -> Calling a function"
   ]
  },
  {
   "cell_type": "code",
   "execution_count": 25,
   "metadata": {},
   "outputs": [
    {
     "name": "stdout",
     "output_type": "stream",
     "text": [
      "I am from Butwal and i study CSIT\n",
      "Python is easy to learn\n"
     ]
    }
   ],
   "source": [
    "def printme(str):\n",
    "    print (str)\n",
    "    return\n",
    "\n",
    "printme(\"I am from Butwal and i study CSIT\")\n",
    "printme (\"Python is easy to learn\")"
   ]
  },
  {
   "cell_type": "markdown",
   "metadata": {},
   "source": [
    "## Pass by Reference vs pass by value"
   ]
  },
  {
   "cell_type": "code",
   "execution_count": null,
   "metadata": {},
   "outputs": [],
   "source": []
  },
  {
   "cell_type": "markdown",
   "metadata": {},
   "source": [
    "## Function Arguments"
   ]
  },
  {
   "cell_type": "code",
   "execution_count": 26,
   "metadata": {},
   "outputs": [
    {
     "name": "stdout",
     "output_type": "stream",
     "text": [
      "I study CSIT\n"
     ]
    }
   ],
   "source": [
    "#Required arguments\n",
    "\n",
    "def printme(str):\n",
    "    print (str)\n",
    "    return\n",
    "\n",
    "printme(\"I study CSIT\")"
   ]
  },
  {
   "cell_type": "code",
   "execution_count": 28,
   "metadata": {},
   "outputs": [
    {
     "name": "stdout",
     "output_type": "stream",
     "text": [
      "name is : Kolaj    \n",
      "age is : 30\n"
     ]
    }
   ],
   "source": [
    "#Keywords arguments\n",
    "\n",
    "def detail(name,age):\n",
    "    print (\"name is :\",name,\"   \\nage is :\",age)\n",
    "    return\n",
    "\n",
    "detail(age=30,name=\"Kolaj\")"
   ]
  },
  {
   "cell_type": "code",
   "execution_count": 30,
   "metadata": {},
   "outputs": [
    {
     "name": "stdout",
     "output_type": "stream",
     "text": [
      "name : ram \n",
      "age : 20\n",
      "name : shyam \n",
      "age : 35\n"
     ]
    }
   ],
   "source": [
    "#Default arguments\n",
    "\n",
    "def default(name,age=35):\n",
    "    print (\"name :\",name,\"\\nage :\",age)\n",
    "    return\n",
    "\n",
    "default(\"ram\",20)\n",
    "default(\"shyam\")"
   ]
  },
  {
   "cell_type": "code",
   "execution_count": 31,
   "metadata": {},
   "outputs": [
    {
     "name": "stdout",
     "output_type": "stream",
     "text": [
      "the value is :\n",
      " 10\n",
      "the value is :\n",
      " kolaj\n",
      "10\n",
      "20\n"
     ]
    }
   ],
   "source": [
    "#variable length arguments\n",
    "\n",
    "def fun(val,*v):\n",
    "    print (\"the value is :\\n\",val)\n",
    "    for x in v:\n",
    "        print (x)\n",
    "    \n",
    "    return\n",
    "\n",
    "fun(10)\n",
    "fun(\"kolaj\",10,20)"
   ]
  },
  {
   "cell_type": "code",
   "execution_count": 35,
   "metadata": {},
   "outputs": [
    {
     "name": "stdout",
     "output_type": "stream",
     "text": [
      "total inside function : 30\n",
      "total outside function : 0\n"
     ]
    }
   ],
   "source": [
    "#Global vs Local variables\n",
    "\n",
    "total=0\n",
    "def dummy(a,b):\n",
    "    total = a+b\n",
    "    print (\"total inside function :\",total)\n",
    "    return total\n",
    "\n",
    "dummy(10,20)\n",
    "print (\"total outside function :\",total)"
   ]
  },
  {
   "cell_type": "markdown",
   "metadata": {},
   "source": [
    "## Python Dictionary"
   ]
  },
  {
   "cell_type": "code",
   "execution_count": 37,
   "metadata": {},
   "outputs": [
    {
     "name": "stdout",
     "output_type": "stream",
     "text": [
      "ram \n",
      " 18\n"
     ]
    }
   ],
   "source": [
    "#Accessing a value in dictionary\n",
    "\n",
    "dict ={'name':'ram','age':18,'roll':7}\n",
    "\n",
    "print (dict['name'],\"\\n\",dict['age'])"
   ]
  },
  {
   "cell_type": "code",
   "execution_count": 38,
   "metadata": {},
   "outputs": [
    {
     "name": "stdout",
     "output_type": "stream",
     "text": [
      "8 DPS School\n"
     ]
    }
   ],
   "source": [
    "#Updating a dictionary\n",
    "\n",
    "dictt = {'Name': 'Zara', 'Age': 7, 'Class': 'First'}\n",
    "dictt['Age'] = 8; # update existing entry\n",
    "dictt['School'] = \"DPS School\"; # Add new entry\n",
    "\n",
    "print (dictt['Age'],dictt['School'])"
   ]
  },
  {
   "cell_type": "code",
   "execution_count": 39,
   "metadata": {},
   "outputs": [
    {
     "name": "stdout",
     "output_type": "stream",
     "text": [
      "{'Age': 8, 'Class': 'First', 'School': 'DPS School'}\n"
     ]
    }
   ],
   "source": [
    "#Deleting a dictionary\n",
    "\n",
    "del dictt['Name']; # remove entry with key 'Name'\n",
    "print(dictt)"
   ]
  },
  {
   "cell_type": "code",
   "execution_count": 40,
   "metadata": {},
   "outputs": [
    {
     "name": "stdout",
     "output_type": "stream",
     "text": [
      "{}\n"
     ]
    }
   ],
   "source": [
    "dictt.clear();     # remove all entries in dict\n",
    "print (dictt)"
   ]
  },
  {
   "cell_type": "code",
   "execution_count": 41,
   "metadata": {},
   "outputs": [
    {
     "ename": "NameError",
     "evalue": "name 'dictt' is not defined",
     "output_type": "error",
     "traceback": [
      "\u001b[1;31m---------------------------------------------------------------------------\u001b[0m",
      "\u001b[1;31mNameError\u001b[0m                                 Traceback (most recent call last)",
      "\u001b[1;32m<ipython-input-41-8ce450a89489>\u001b[0m in \u001b[0;36m<module>\u001b[1;34m\u001b[0m\n\u001b[0;32m      1\u001b[0m \u001b[1;32mdel\u001b[0m \u001b[0mdictt\u001b[0m \u001b[1;33m;\u001b[0m        \u001b[1;31m# delete entire dictionary\u001b[0m\u001b[1;33m\u001b[0m\u001b[1;33m\u001b[0m\u001b[0m\n\u001b[1;32m----> 2\u001b[1;33m \u001b[0mprint\u001b[0m \u001b[1;33m(\u001b[0m\u001b[0mdictt\u001b[0m\u001b[1;33m)\u001b[0m\u001b[1;33m\u001b[0m\u001b[1;33m\u001b[0m\u001b[0m\n\u001b[0m",
      "\u001b[1;31mNameError\u001b[0m: name 'dictt' is not defined"
     ]
    }
   ],
   "source": [
    "del dictt ;        # delete entire dictionary\n",
    "print (dictt)"
   ]
  },
  {
   "cell_type": "markdown",
   "metadata": {},
   "source": [
    "## Properties of key"
   ]
  },
  {
   "cell_type": "code",
   "execution_count": 43,
   "metadata": {},
   "outputs": [
    {
     "name": "stdout",
     "output_type": "stream",
     "text": [
      "dict['Name']:  Manni\n"
     ]
    }
   ],
   "source": [
    "#When duplicate keys encountered during assignment, the last assignment wins\n",
    "\n",
    "dict = {'Name': 'Zara', 'Age': 7, 'Name': 'Manni'}\n",
    "print (\"dict['Name']: \", dict['Name'])"
   ]
  },
  {
   "cell_type": "code",
   "execution_count": 45,
   "metadata": {},
   "outputs": [
    {
     "ename": "TypeError",
     "evalue": "unhashable type: 'list'",
     "output_type": "error",
     "traceback": [
      "\u001b[1;31m---------------------------------------------------------------------------\u001b[0m",
      "\u001b[1;31mTypeError\u001b[0m                                 Traceback (most recent call last)",
      "\u001b[1;32m<ipython-input-45-4f2e46e74085>\u001b[0m in \u001b[0;36m<module>\u001b[1;34m\u001b[0m\n\u001b[0;32m      1\u001b[0m \u001b[1;31m#you can use strings, numbers or tuples as dictionary keys but something like ['key'] is not allowed\u001b[0m\u001b[1;33m\u001b[0m\u001b[1;33m\u001b[0m\u001b[1;33m\u001b[0m\u001b[0m\n\u001b[0;32m      2\u001b[0m \u001b[1;33m\u001b[0m\u001b[0m\n\u001b[1;32m----> 3\u001b[1;33m \u001b[0mdict\u001b[0m \u001b[1;33m=\u001b[0m \u001b[1;33m{\u001b[0m\u001b[1;33m[\u001b[0m\u001b[1;34m'Name'\u001b[0m\u001b[1;33m]\u001b[0m\u001b[1;33m:\u001b[0m \u001b[1;34m'Zara'\u001b[0m\u001b[1;33m,\u001b[0m \u001b[1;34m'Age'\u001b[0m\u001b[1;33m:\u001b[0m \u001b[1;36m7\u001b[0m\u001b[1;33m}\u001b[0m\u001b[1;33m\u001b[0m\u001b[1;33m\u001b[0m\u001b[0m\n\u001b[0m\u001b[0;32m      4\u001b[0m \u001b[0mprint\u001b[0m \u001b[1;33m(\u001b[0m\u001b[1;34m\"dict['Name']: \"\u001b[0m\u001b[1;33m,\u001b[0m \u001b[0mdict\u001b[0m\u001b[1;33m[\u001b[0m\u001b[1;34m'Name'\u001b[0m\u001b[1;33m]\u001b[0m\u001b[1;33m)\u001b[0m\u001b[1;33m\u001b[0m\u001b[1;33m\u001b[0m\u001b[0m\n",
      "\u001b[1;31mTypeError\u001b[0m: unhashable type: 'list'"
     ]
    }
   ],
   "source": [
    "#you can use strings, numbers or tuples as dictionary keys but something like ['key'] is not allowed\n",
    "\n",
    "dict = {['Name']: 'Zara', 'Age': 7}\n",
    "print (\"dict['Name']: \", dict['Name'])"
   ]
  },
  {
   "cell_type": "code",
   "execution_count": 46,
   "metadata": {},
   "outputs": [
    {
     "name": "stdout",
     "output_type": "stream",
     "text": [
      "{'name': 'hari', 'class': 7, 'aim': 'vlogger'}\n"
     ]
    }
   ],
   "source": [
    "#dict.copy()\n",
    "#Returns a shallow copy of dictionary dict\n",
    "\n",
    "adict={'name':'hari','class':7,'aim':'vlogger'}\n",
    "bdict=adict.copy()\n",
    "print (bdict)"
   ]
  },
  {
   "cell_type": "code",
   "execution_count": 49,
   "metadata": {},
   "outputs": [
    {
     "name": "stdout",
     "output_type": "stream",
     "text": [
      "dictionary with only keys : {'name': None, 'age': None, 'sex': None}\n",
      "dictionary with key and value : {'name': 10, 'age': 10, 'sex': 10}\n"
     ]
    }
   ],
   "source": [
    "#dict.fromkeys()\n",
    "#Create a new dictionary with keys from seq and values set to value.\n",
    "\n",
    "seq=('name','age','sex')\n",
    "dict=dict.fromkeys(seq)\n",
    "\n",
    "print (\"dictionary with only keys :\",dict)\n",
    "print (\"dictionary with key and value :\",dict.fromkeys(seq,10))"
   ]
  },
  {
   "cell_type": "code",
   "execution_count": 52,
   "metadata": {},
   "outputs": [
    {
     "name": "stdout",
     "output_type": "stream",
     "text": [
      "8\n",
      "Lammichane\n"
     ]
    }
   ],
   "source": [
    "#dict.get(key, default=None)\n",
    "#returns a value for the given key. If key is not available then returns default value None\n",
    "\n",
    "dict={'name':'Kolaj','age':8}\n",
    "print(dict.get('age'))\n",
    "print (dict.get('wicket','Lammichane'))"
   ]
  },
  {
   "cell_type": "code",
   "execution_count": 56,
   "metadata": {},
   "outputs": [
    {
     "name": "stdout",
     "output_type": "stream",
     "text": [
      "True\n"
     ]
    }
   ],
   "source": [
    "#dict.has_key(key)\n",
    "#Returns true if key in dictionary dict, false otherwise\n",
    "#the above  syntax doesn't work in python 3 and heence we can do it as done below\n",
    "\n",
    "print ('age' in dict)"
   ]
  },
  {
   "cell_type": "code",
   "execution_count": 58,
   "metadata": {},
   "outputs": [
    {
     "name": "stdout",
     "output_type": "stream",
     "text": [
      "dict_items([('name', 'Kolaj'), ('age', 8)])\n"
     ]
    }
   ],
   "source": [
    "#dict.items()\n",
    "#Returns a list of dict's (key, value) tuple pairs\n",
    "\n",
    "print (dict.items())"
   ]
  },
  {
   "cell_type": "code",
   "execution_count": 62,
   "metadata": {},
   "outputs": [
    {
     "name": "stdout",
     "output_type": "stream",
     "text": [
      "dict_keys(['name', 'age'])\n"
     ]
    }
   ],
   "source": [
    "#dict.keys()\n",
    "#Returns list of dictionary dict's keys\n",
    "\n",
    "print (dict.keys())"
   ]
  },
  {
   "cell_type": "code",
   "execution_count": 64,
   "metadata": {},
   "outputs": [
    {
     "name": "stdout",
     "output_type": "stream",
     "text": [
      "{'Name': 'Zara', 'Age': 7, 'Sex': 'female'}\n"
     ]
    }
   ],
   "source": [
    "#dict.update(dict2)\n",
    "#Adds dictionary dict2's key-values pairs to dict\n",
    "\n",
    "dict = {'Name': 'Zara', 'Age': 7}\n",
    "dict2 = {'Sex': 'female' }\n",
    "\n",
    "dict.update(dict2)\n",
    "\n",
    "print (dict)"
   ]
  },
  {
   "cell_type": "code",
   "execution_count": 66,
   "metadata": {},
   "outputs": [
    {
     "name": "stdout",
     "output_type": "stream",
     "text": [
      "dict_values(['Zara', 7, 'female'])\n"
     ]
    }
   ],
   "source": [
    "#dict.values()\n",
    "#Returns list of dictionary dict's values\n",
    "\n",
    "print (dict.values())"
   ]
  },
  {
   "cell_type": "code",
   "execution_count": null,
   "metadata": {},
   "outputs": [],
   "source": []
  }
 ],
 "metadata": {
  "kernelspec": {
   "display_name": "Python 3",
   "language": "python",
   "name": "python3"
  },
  "language_info": {
   "codemirror_mode": {
    "name": "ipython",
    "version": 3
   },
   "file_extension": ".py",
   "mimetype": "text/x-python",
   "name": "python",
   "nbconvert_exporter": "python",
   "pygments_lexer": "ipython3",
   "version": "3.7.3"
  }
 },
 "nbformat": 4,
 "nbformat_minor": 2
}
